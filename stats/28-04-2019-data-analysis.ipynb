{
 "cells": [
  {
   "cell_type": "code",
   "execution_count": 86,
   "metadata": {},
   "outputs": [],
   "source": [
    "import pandas as pd\n",
    "import matplotlib.pyplot as plt\n",
    "import seaborn as sb\n",
    "import numpy as np"
   ]
  },
  {
   "cell_type": "code",
   "execution_count": 2,
   "metadata": {},
   "outputs": [],
   "source": [
    "df_apts = pd.read_csv('apartment-data.csv')"
   ]
  },
  {
   "cell_type": "code",
   "execution_count": 3,
   "metadata": {},
   "outputs": [
    {
     "data": {
      "text/plain": [
       "(10445, 17)"
      ]
     },
     "execution_count": 3,
     "metadata": {},
     "output_type": "execute_result"
    }
   ],
   "source": [
    "# Number of rows, columns\n",
    "df_apts.shape"
   ]
  },
  {
   "cell_type": "code",
   "execution_count": 4,
   "metadata": {},
   "outputs": [
    {
     "data": {
      "text/html": [
       "<div>\n",
       "<style scoped>\n",
       "    .dataframe tbody tr th:only-of-type {\n",
       "        vertical-align: middle;\n",
       "    }\n",
       "\n",
       "    .dataframe tbody tr th {\n",
       "        vertical-align: top;\n",
       "    }\n",
       "\n",
       "    .dataframe thead th {\n",
       "        text-align: right;\n",
       "    }\n",
       "</style>\n",
       "<table border=\"1\" class=\"dataframe\">\n",
       "  <thead>\n",
       "    <tr style=\"text-align: right;\">\n",
       "      <th></th>\n",
       "      <th>fingerprint</th>\n",
       "      <th>title</th>\n",
       "      <th>description</th>\n",
       "      <th>posted_date</th>\n",
       "      <th>price</th>\n",
       "      <th>currency</th>\n",
       "      <th>partitioning</th>\n",
       "      <th>surface</th>\n",
       "      <th>building_year</th>\n",
       "      <th>floor</th>\n",
       "      <th>number_of_rooms</th>\n",
       "      <th>terrace</th>\n",
       "      <th>parking</th>\n",
       "      <th>cellar</th>\n",
       "      <th>source_website</th>\n",
       "      <th>source_offer</th>\n",
       "      <th>neighborhood</th>\n",
       "    </tr>\n",
       "  </thead>\n",
       "  <tbody>\n",
       "    <tr>\n",
       "      <th>0</th>\n",
       "      <td>f312def4af9fbaa38f2c8b33e94ccac00d728791</td>\n",
       "      <td>Apartament 3 camere RIVIERA LUXURY</td>\n",
       "      <td>Descriere anuntVa oferim spre inchiriere un ap...</td>\n",
       "      <td>2019-04-28 12:33:47.528798</td>\n",
       "      <td>1000</td>\n",
       "      <td>EUR</td>\n",
       "      <td>semidecomandat</td>\n",
       "      <td>87.0</td>\n",
       "      <td>2015</td>\n",
       "      <td>3.0</td>\n",
       "      <td>3.0</td>\n",
       "      <td>True</td>\n",
       "      <td>False</td>\n",
       "      <td>False</td>\n",
       "      <td>storia</td>\n",
       "      <td>Agentie imobiliara</td>\n",
       "      <td>centru</td>\n",
       "    </tr>\n",
       "    <tr>\n",
       "      <th>1</th>\n",
       "      <td>6b2d1adf50ed92151652bd50ebc14ebd6f53e00b</td>\n",
       "      <td>Apartament, 2 camere, 55 mp, parcare, pe Eugen...</td>\n",
       "      <td>Descriere anuntOferta ID: 1661Va prezentam un ...</td>\n",
       "      <td>2019-04-28 12:33:48.187126</td>\n",
       "      <td>400</td>\n",
       "      <td>EUR</td>\n",
       "      <td>semidecomandat</td>\n",
       "      <td>55.0</td>\n",
       "      <td>2010</td>\n",
       "      <td>3.0</td>\n",
       "      <td>2.0</td>\n",
       "      <td>False</td>\n",
       "      <td>True</td>\n",
       "      <td>False</td>\n",
       "      <td>storia</td>\n",
       "      <td>Agentie imobiliara</td>\n",
       "      <td>europa</td>\n",
       "    </tr>\n",
       "    <tr>\n",
       "      <th>2</th>\n",
       "      <td>eeeb937e2eb98bce23a3b72dea5e4e986352a35f</td>\n",
       "      <td>Apartament, 1 camera, 39 mp, terasa, pe Calea ...</td>\n",
       "      <td>Descriere anuntOferta ID: 1043Va prezentam un ...</td>\n",
       "      <td>2019-04-28 12:33:49.447887</td>\n",
       "      <td>300</td>\n",
       "      <td>EUR</td>\n",
       "      <td>decomandat</td>\n",
       "      <td>39.0</td>\n",
       "      <td>2012</td>\n",
       "      <td>10.0</td>\n",
       "      <td>1.0</td>\n",
       "      <td>True</td>\n",
       "      <td>False</td>\n",
       "      <td>False</td>\n",
       "      <td>storia</td>\n",
       "      <td>Agentie imobiliara</td>\n",
       "      <td>calea turzii</td>\n",
       "    </tr>\n",
       "  </tbody>\n",
       "</table>\n",
       "</div>"
      ],
      "text/plain": [
       "                                fingerprint  \\\n",
       "0  f312def4af9fbaa38f2c8b33e94ccac00d728791   \n",
       "1  6b2d1adf50ed92151652bd50ebc14ebd6f53e00b   \n",
       "2  eeeb937e2eb98bce23a3b72dea5e4e986352a35f   \n",
       "\n",
       "                                               title  \\\n",
       "0                 Apartament 3 camere RIVIERA LUXURY   \n",
       "1  Apartament, 2 camere, 55 mp, parcare, pe Eugen...   \n",
       "2  Apartament, 1 camera, 39 mp, terasa, pe Calea ...   \n",
       "\n",
       "                                         description  \\\n",
       "0  Descriere anuntVa oferim spre inchiriere un ap...   \n",
       "1  Descriere anuntOferta ID: 1661Va prezentam un ...   \n",
       "2  Descriere anuntOferta ID: 1043Va prezentam un ...   \n",
       "\n",
       "                  posted_date  price currency    partitioning  surface  \\\n",
       "0  2019-04-28 12:33:47.528798   1000      EUR  semidecomandat     87.0   \n",
       "1  2019-04-28 12:33:48.187126    400      EUR  semidecomandat     55.0   \n",
       "2  2019-04-28 12:33:49.447887    300      EUR      decomandat     39.0   \n",
       "\n",
       "  building_year  floor  number_of_rooms  terrace  parking  cellar  \\\n",
       "0          2015    3.0              3.0     True    False   False   \n",
       "1          2010    3.0              2.0    False     True   False   \n",
       "2          2012   10.0              1.0     True    False   False   \n",
       "\n",
       "  source_website        source_offer  neighborhood  \n",
       "0         storia  Agentie imobiliara        centru  \n",
       "1         storia  Agentie imobiliara        europa  \n",
       "2         storia  Agentie imobiliara  calea turzii  "
      ]
     },
     "execution_count": 4,
     "metadata": {},
     "output_type": "execute_result"
    }
   ],
   "source": [
    "# Getting a feel of the data\n",
    "df_apts.head(3)"
   ]
  },
  {
   "cell_type": "code",
   "execution_count": 66,
   "metadata": {},
   "outputs": [
    {
     "data": {
      "text/html": [
       "<div>\n",
       "<style scoped>\n",
       "    .dataframe tbody tr th:only-of-type {\n",
       "        vertical-align: middle;\n",
       "    }\n",
       "\n",
       "    .dataframe tbody tr th {\n",
       "        vertical-align: top;\n",
       "    }\n",
       "\n",
       "    .dataframe thead th {\n",
       "        text-align: right;\n",
       "    }\n",
       "</style>\n",
       "<table border=\"1\" class=\"dataframe\">\n",
       "  <thead>\n",
       "    <tr style=\"text-align: right;\">\n",
       "      <th></th>\n",
       "      <th>price</th>\n",
       "      <th>surface</th>\n",
       "      <th>floor</th>\n",
       "      <th>number_of_rooms</th>\n",
       "    </tr>\n",
       "  </thead>\n",
       "  <tbody>\n",
       "    <tr>\n",
       "      <th>count</th>\n",
       "      <td>10445.000000</td>\n",
       "      <td>10386.000000</td>\n",
       "      <td>8362.000000</td>\n",
       "      <td>7382.000000</td>\n",
       "    </tr>\n",
       "    <tr>\n",
       "      <th>mean</th>\n",
       "      <td>491.756534</td>\n",
       "      <td>58.033795</td>\n",
       "      <td>3.095312</td>\n",
       "      <td>2.211731</td>\n",
       "    </tr>\n",
       "    <tr>\n",
       "      <th>std</th>\n",
       "      <td>1569.911426</td>\n",
       "      <td>24.137647</td>\n",
       "      <td>2.310205</td>\n",
       "      <td>0.722419</td>\n",
       "    </tr>\n",
       "    <tr>\n",
       "      <th>min</th>\n",
       "      <td>42.000000</td>\n",
       "      <td>10.000000</td>\n",
       "      <td>-1.000000</td>\n",
       "      <td>1.000000</td>\n",
       "    </tr>\n",
       "    <tr>\n",
       "      <th>25%</th>\n",
       "      <td>370.000000</td>\n",
       "      <td>47.000000</td>\n",
       "      <td>1.000000</td>\n",
       "      <td>2.000000</td>\n",
       "    </tr>\n",
       "    <tr>\n",
       "      <th>50%</th>\n",
       "      <td>430.000000</td>\n",
       "      <td>55.000000</td>\n",
       "      <td>2.000000</td>\n",
       "      <td>2.000000</td>\n",
       "    </tr>\n",
       "    <tr>\n",
       "      <th>75%</th>\n",
       "      <td>500.000000</td>\n",
       "      <td>66.000000</td>\n",
       "      <td>4.000000</td>\n",
       "      <td>3.000000</td>\n",
       "    </tr>\n",
       "    <tr>\n",
       "      <th>max</th>\n",
       "      <td>89000.000000</td>\n",
       "      <td>656.000000</td>\n",
       "      <td>13.000000</td>\n",
       "      <td>5.000000</td>\n",
       "    </tr>\n",
       "  </tbody>\n",
       "</table>\n",
       "</div>"
      ],
      "text/plain": [
       "              price       surface        floor  number_of_rooms\n",
       "count  10445.000000  10386.000000  8362.000000      7382.000000\n",
       "mean     491.756534     58.033795     3.095312         2.211731\n",
       "std     1569.911426     24.137647     2.310205         0.722419\n",
       "min       42.000000     10.000000    -1.000000         1.000000\n",
       "25%      370.000000     47.000000     1.000000         2.000000\n",
       "50%      430.000000     55.000000     2.000000         2.000000\n",
       "75%      500.000000     66.000000     4.000000         3.000000\n",
       "max    89000.000000    656.000000    13.000000         5.000000"
      ]
     },
     "execution_count": 66,
     "metadata": {},
     "output_type": "execute_result"
    }
   ],
   "source": [
    "df_apts.describe()"
   ]
  },
  {
   "cell_type": "code",
   "execution_count": null,
   "metadata": {},
   "outputs": [],
   "source": [
    "# We definitely have some outliers"
   ]
  },
  {
   "cell_type": "code",
   "execution_count": 10,
   "metadata": {},
   "outputs": [
    {
     "data": {
      "image/png": "[encoded data removed]",
      "text/plain": [
       "<Figure size 432x288 with 1 Axes>"
      ]
     },
     "metadata": {
      "needs_background": "light"
     },
     "output_type": "display_data"
    }
   ],
   "source": [
    "# Number of null values per column\n",
    "df_nulls = df_apts.isnull().sum()\n",
    "df_nulls = df_nulls[df_nulls > 0]\n",
    "nulls_graph = sb.barplot(x=df_nulls.values, y=df_nulls.index)"
   ]
  },
  {
   "cell_type": "code",
   "execution_count": 12,
   "metadata": {},
   "outputs": [
    {
     "data": {
      "image/png": "[encoded data removed]",
      "text/plain": [
       "<Figure size 432x288 with 1 Axes>"
      ]
     },
     "metadata": {
      "needs_background": "light"
     },
     "output_type": "display_data"
    }
   ],
   "source": [
    "# Exploring the linear relationship between price and surface\n",
    "linear_graph = sb.regplot(x=\"surface\", y=\"price\", data=df_apts)"
   ]
  },
  {
   "cell_type": "code",
   "execution_count": 47,
   "metadata": {},
   "outputs": [
    {
     "data": {
      "text/html": [
       "<div>\n",
       "<style scoped>\n",
       "    .dataframe tbody tr th:only-of-type {\n",
       "        vertical-align: middle;\n",
       "    }\n",
       "\n",
       "    .dataframe tbody tr th {\n",
       "        vertical-align: top;\n",
       "    }\n",
       "\n",
       "    .dataframe thead th {\n",
       "        text-align: right;\n",
       "    }\n",
       "</style>\n",
       "<table border=\"1\" class=\"dataframe\">\n",
       "  <thead>\n",
       "    <tr style=\"text-align: right;\">\n",
       "      <th></th>\n",
       "      <th>fingerprint</th>\n",
       "      <th>title</th>\n",
       "      <th>description</th>\n",
       "      <th>posted_date</th>\n",
       "      <th>price</th>\n",
       "      <th>currency</th>\n",
       "      <th>partitioning</th>\n",
       "      <th>surface</th>\n",
       "      <th>building_year</th>\n",
       "      <th>floor</th>\n",
       "      <th>number_of_rooms</th>\n",
       "      <th>terrace</th>\n",
       "      <th>parking</th>\n",
       "      <th>cellar</th>\n",
       "      <th>source_website</th>\n",
       "      <th>source_offer</th>\n",
       "      <th>neighborhood</th>\n",
       "    </tr>\n",
       "  </thead>\n",
       "  <tbody>\n",
       "    <tr>\n",
       "      <th>717</th>\n",
       "      <td>97cf6274e599e95ed8870e4d8eee2d2ecd0d0b33</td>\n",
       "      <td>Se vinde apartament pe aleea Bizusa 48 de mp</td>\n",
       "      <td>Descriere anuntImobgaranti va propune spre van...</td>\n",
       "      <td>2019-04-28 12:49:55.050394</td>\n",
       "      <td>79000</td>\n",
       "      <td>EUR</td>\n",
       "      <td>decomandat</td>\n",
       "      <td>48.0</td>\n",
       "      <td>1990</td>\n",
       "      <td>8.0</td>\n",
       "      <td>2.0</td>\n",
       "      <td>True</td>\n",
       "      <td>True</td>\n",
       "      <td>False</td>\n",
       "      <td>storia</td>\n",
       "      <td>Agentie imobiliara</td>\n",
       "      <td>centru</td>\n",
       "    </tr>\n",
       "    <tr>\n",
       "      <th>913</th>\n",
       "      <td>a3d03f5cc2221c9200640dfd5df55f2e4c146a11</td>\n",
       "      <td>Apartament in casa, 1 camera, de închiriat, în...</td>\n",
       "      <td>Descriere anuntILUSTRA IMOBILIARE  inchiriază ...</td>\n",
       "      <td>2019-04-28 12:54:19.884013</td>\n",
       "      <td>89000</td>\n",
       "      <td>EUR</td>\n",
       "      <td>NaN</td>\n",
       "      <td>40.0</td>\n",
       "      <td>NaN</td>\n",
       "      <td>NaN</td>\n",
       "      <td>1.0</td>\n",
       "      <td>False</td>\n",
       "      <td>True</td>\n",
       "      <td>True</td>\n",
       "      <td>storia</td>\n",
       "      <td>Agentie imobiliara</td>\n",
       "      <td>centru</td>\n",
       "    </tr>\n",
       "    <tr>\n",
       "      <th>2927</th>\n",
       "      <td>318770b72464cf3a69ed1a034feaedaa56e9696c</td>\n",
       "      <td>Apartament, 1 camera, de închiriat, în Centru</td>\n",
       "      <td>Descriere anuntILUSTRA IMOBILIARE  inchiriază ...</td>\n",
       "      <td>2019-04-28 13:41:03.706166</td>\n",
       "      <td>63000</td>\n",
       "      <td>EUR</td>\n",
       "      <td>NaN</td>\n",
       "      <td>23.0</td>\n",
       "      <td>NaN</td>\n",
       "      <td>NaN</td>\n",
       "      <td>1.0</td>\n",
       "      <td>False</td>\n",
       "      <td>False</td>\n",
       "      <td>False</td>\n",
       "      <td>storia</td>\n",
       "      <td>Agentie imobiliara</td>\n",
       "      <td>centru</td>\n",
       "    </tr>\n",
       "    <tr>\n",
       "      <th>3382</th>\n",
       "      <td>08a547a6cefe721e5da69b20fdb12d17da89ca9a</td>\n",
       "      <td>VG 79275, Garsoniera la et. intermediar, 24 mp...</td>\n",
       "      <td>Descriere anuntGarsoniera in zona Expo Transil...</td>\n",
       "      <td>2019-04-28 13:52:00.189373</td>\n",
       "      <td>46000</td>\n",
       "      <td>EUR</td>\n",
       "      <td>decomandat</td>\n",
       "      <td>28.0</td>\n",
       "      <td>NaN</td>\n",
       "      <td>1.0</td>\n",
       "      <td>1.0</td>\n",
       "      <td>True</td>\n",
       "      <td>False</td>\n",
       "      <td>False</td>\n",
       "      <td>storia</td>\n",
       "      <td>Agentie imobiliara</td>\n",
       "      <td>marasti</td>\n",
       "    </tr>\n",
       "    <tr>\n",
       "      <th>4851</th>\n",
       "      <td>67a7ad24ffe2c4f1559f0e3e595ec6a8e4e2fbdb</td>\n",
       "      <td>Se vinde apartament pe strada Bucuresti 50 de mp</td>\n",
       "      <td>Descriere anuntImobgaranti va pune spre vanzar...</td>\n",
       "      <td>2019-04-28 14:26:14.340498</td>\n",
       "      <td>74500</td>\n",
       "      <td>EUR</td>\n",
       "      <td>semidecomandat</td>\n",
       "      <td>50.0</td>\n",
       "      <td>2015</td>\n",
       "      <td>3.0</td>\n",
       "      <td>2.0</td>\n",
       "      <td>True</td>\n",
       "      <td>True</td>\n",
       "      <td>False</td>\n",
       "      <td>storia</td>\n",
       "      <td>Agentie imobiliara</td>\n",
       "      <td>centru</td>\n",
       "    </tr>\n",
       "  </tbody>\n",
       "</table>\n",
       "</div>"
      ],
      "text/plain": [
       "                                   fingerprint  \\\n",
       "717   97cf6274e599e95ed8870e4d8eee2d2ecd0d0b33   \n",
       "913   a3d03f5cc2221c9200640dfd5df55f2e4c146a11   \n",
       "2927  318770b72464cf3a69ed1a034feaedaa56e9696c   \n",
       "3382  08a547a6cefe721e5da69b20fdb12d17da89ca9a   \n",
       "4851  67a7ad24ffe2c4f1559f0e3e595ec6a8e4e2fbdb   \n",
       "\n",
       "                                                  title  \\\n",
       "717        Se vinde apartament pe aleea Bizusa 48 de mp   \n",
       "913   Apartament in casa, 1 camera, de închiriat, în...   \n",
       "2927      Apartament, 1 camera, de închiriat, în Centru   \n",
       "3382  VG 79275, Garsoniera la et. intermediar, 24 mp...   \n",
       "4851   Se vinde apartament pe strada Bucuresti 50 de mp   \n",
       "\n",
       "                                            description  \\\n",
       "717   Descriere anuntImobgaranti va propune spre van...   \n",
       "913   Descriere anuntILUSTRA IMOBILIARE  inchiriază ...   \n",
       "2927  Descriere anuntILUSTRA IMOBILIARE  inchiriază ...   \n",
       "3382  Descriere anuntGarsoniera in zona Expo Transil...   \n",
       "4851  Descriere anuntImobgaranti va pune spre vanzar...   \n",
       "\n",
       "                     posted_date  price currency    partitioning  surface  \\\n",
       "717   2019-04-28 12:49:55.050394  79000      EUR      decomandat     48.0   \n",
       "913   2019-04-28 12:54:19.884013  89000      EUR             NaN     40.0   \n",
       "2927  2019-04-28 13:41:03.706166  63000      EUR             NaN     23.0   \n",
       "3382  2019-04-28 13:52:00.189373  46000      EUR      decomandat     28.0   \n",
       "4851  2019-04-28 14:26:14.340498  74500      EUR  semidecomandat     50.0   \n",
       "\n",
       "     building_year  floor  number_of_rooms  terrace  parking  cellar  \\\n",
       "717           1990    8.0              2.0     True     True   False   \n",
       "913            NaN    NaN              1.0    False     True    True   \n",
       "2927           NaN    NaN              1.0    False    False   False   \n",
       "3382           NaN    1.0              1.0     True    False   False   \n",
       "4851          2015    3.0              2.0     True     True   False   \n",
       "\n",
       "     source_website        source_offer neighborhood  \n",
       "717          storia  Agentie imobiliara       centru  \n",
       "913          storia  Agentie imobiliara       centru  \n",
       "2927         storia  Agentie imobiliara       centru  \n",
       "3382         storia  Agentie imobiliara      marasti  \n",
       "4851         storia  Agentie imobiliara       centru  "
      ]
     },
     "execution_count": 47,
     "metadata": {},
     "output_type": "execute_result"
    }
   ],
   "source": [
    "# Above shows general linearity, with some outliers, namely in price\n",
    "# These can be brought on by sellers wrongly marking apartments for sale as for rent\n",
    "# Anything above 10,000 probably does not belong here\n",
    "# Let check them out\n",
    "df_apts.loc[df_apts.price > 10000]"
   ]
  },
  {
   "cell_type": "code",
   "execution_count": 25,
   "metadata": {},
   "outputs": [],
   "source": [
    "# Data needs to be cleaned of these data points\n",
    "df_apts_clean_part = df_apts.loc[df_apts.price < 10000] "
   ]
  },
  {
   "cell_type": "code",
   "execution_count": 14,
   "metadata": {},
   "outputs": [
    {
     "data": {
      "image/png": "[encoded data removed]",
      "text/plain": [
       "<Figure size 432x288 with 1 Axes>"
      ]
     },
     "metadata": {
      "needs_background": "light"
     },
     "output_type": "display_data"
    }
   ],
   "source": [
    "# Let's try the linear function again\n",
    "linear_graph = sb.regplot(x=\"surface\", y=\"price\", data=df_apts_clean_part)"
   ]
  },
  {
   "cell_type": "code",
   "execution_count": 44,
   "metadata": {},
   "outputs": [
    {
     "data": {
      "text/html": [
       "<div>\n",
       "<style scoped>\n",
       "    .dataframe tbody tr th:only-of-type {\n",
       "        vertical-align: middle;\n",
       "    }\n",
       "\n",
       "    .dataframe tbody tr th {\n",
       "        vertical-align: top;\n",
       "    }\n",
       "\n",
       "    .dataframe thead th {\n",
       "        text-align: right;\n",
       "    }\n",
       "</style>\n",
       "<table border=\"1\" class=\"dataframe\">\n",
       "  <thead>\n",
       "    <tr style=\"text-align: right;\">\n",
       "      <th></th>\n",
       "      <th>fingerprint</th>\n",
       "      <th>title</th>\n",
       "      <th>description</th>\n",
       "      <th>posted_date</th>\n",
       "      <th>price</th>\n",
       "      <th>currency</th>\n",
       "      <th>partitioning</th>\n",
       "      <th>surface</th>\n",
       "      <th>building_year</th>\n",
       "      <th>floor</th>\n",
       "      <th>number_of_rooms</th>\n",
       "      <th>terrace</th>\n",
       "      <th>parking</th>\n",
       "      <th>cellar</th>\n",
       "      <th>source_website</th>\n",
       "      <th>source_offer</th>\n",
       "      <th>neighborhood</th>\n",
       "    </tr>\n",
       "  </thead>\n",
       "  <tbody>\n",
       "    <tr>\n",
       "      <th>1713</th>\n",
       "      <td>f798b8784a586cc7feb0cfdf10d2ae41e62984ae</td>\n",
       "      <td>For rent big apartment with 2 rooms and terrac...</td>\n",
       "      <td>Descriere anunt3-4 min walk to USAMV!Big apart...</td>\n",
       "      <td>2019-04-28 13:12:39.825909</td>\n",
       "      <td>650</td>\n",
       "      <td>EUR</td>\n",
       "      <td>decomandat</td>\n",
       "      <td>656.0</td>\n",
       "      <td>NaN</td>\n",
       "      <td>NaN</td>\n",
       "      <td>2.0</td>\n",
       "      <td>False</td>\n",
       "      <td>False</td>\n",
       "      <td>False</td>\n",
       "      <td>storia</td>\n",
       "      <td>Agentie imobiliara</td>\n",
       "      <td>not found</td>\n",
       "    </tr>\n",
       "    <tr>\n",
       "      <th>2186</th>\n",
       "      <td>28c3fa46d4a72dda63558cfcf4f66ac44f9bc949</td>\n",
       "      <td>Apartament, 3 camere, 100 mp, parcare, zona st...</td>\n",
       "      <td>Descriere anuntOferta ID: 1230Va prezentam un ...</td>\n",
       "      <td>2019-04-28 13:23:36.516324</td>\n",
       "      <td>500</td>\n",
       "      <td>EUR</td>\n",
       "      <td>semidecomandat</td>\n",
       "      <td>540.0</td>\n",
       "      <td>2010</td>\n",
       "      <td>4.0</td>\n",
       "      <td>3.0</td>\n",
       "      <td>True</td>\n",
       "      <td>True</td>\n",
       "      <td>False</td>\n",
       "      <td>storia</td>\n",
       "      <td>Agentie imobiliara</td>\n",
       "      <td>buna ziua</td>\n",
       "    </tr>\n",
       "    <tr>\n",
       "      <th>2531</th>\n",
       "      <td>b2e62203c1ae765764ac0232f4100b337b552e8d</td>\n",
       "      <td>Spatiu birouri, de închiriat, în Someseni</td>\n",
       "      <td>Descriere anuntILUSTRA IMOBILIARE  inchiriază ...</td>\n",
       "      <td>2019-04-28 13:56:14.045835</td>\n",
       "      <td>2600</td>\n",
       "      <td>EUR</td>\n",
       "      <td>NaN</td>\n",
       "      <td>500.0</td>\n",
       "      <td>NaN</td>\n",
       "      <td>NaN</td>\n",
       "      <td>1.0</td>\n",
       "      <td>False</td>\n",
       "      <td>True</td>\n",
       "      <td>False</td>\n",
       "      <td>storia</td>\n",
       "      <td>Agentie imobiliara</td>\n",
       "      <td>someseni</td>\n",
       "    </tr>\n",
       "    <tr>\n",
       "      <th>4440</th>\n",
       "      <td>380c2abf651f11dc59bbf8b61d32e1cfdc00cd71</td>\n",
       "      <td>Inchiriez apartament frumos cu 2 camere+parcar...</td>\n",
       "      <td>Descriere anuntStudent Mob Cluj agentia imobil...</td>\n",
       "      <td>2019-04-28 14:17:28.367465</td>\n",
       "      <td>250</td>\n",
       "      <td>EUR</td>\n",
       "      <td>semidecomandat</td>\n",
       "      <td>550.0</td>\n",
       "      <td>NaN</td>\n",
       "      <td>NaN</td>\n",
       "      <td>2.0</td>\n",
       "      <td>False</td>\n",
       "      <td>False</td>\n",
       "      <td>False</td>\n",
       "      <td>storia</td>\n",
       "      <td>Agentie imobiliara</td>\n",
       "      <td>floresti</td>\n",
       "    </tr>\n",
       "    <tr>\n",
       "      <th>8299</th>\n",
       "      <td>fa7f670e7da3aae52e73bf8a94a0adde3a4c16d0</td>\n",
       "      <td>For rent big apartment with 2 rooms and terrac...</td>\n",
       "      <td>3-4 min walk to USAMV!Big apartment with 2 roo...</td>\n",
       "      <td>2019-04-23 07:06:00</td>\n",
       "      <td>650</td>\n",
       "      <td>EUR</td>\n",
       "      <td>Decomandat</td>\n",
       "      <td>656.0</td>\n",
       "      <td>NaN</td>\n",
       "      <td>NaN</td>\n",
       "      <td>NaN</td>\n",
       "      <td>False</td>\n",
       "      <td>False</td>\n",
       "      <td>False</td>\n",
       "      <td>olx</td>\n",
       "      <td>Agentie</td>\n",
       "      <td>usamv</td>\n",
       "    </tr>\n",
       "    <tr>\n",
       "      <th>9262</th>\n",
       "      <td>f4faf1040bea27fcb0cbe91cc316228d78888b9a</td>\n",
       "      <td>Inchiriez apartament frumos cu 2 camere+parcar...</td>\n",
       "      <td>Student Mob Cluj agentia imobiliara cu cel mai...</td>\n",
       "      <td>2019-04-24 10:37:00</td>\n",
       "      <td>250</td>\n",
       "      <td>EUR</td>\n",
       "      <td>Semidecomandat</td>\n",
       "      <td>550.0</td>\n",
       "      <td>NaN</td>\n",
       "      <td>NaN</td>\n",
       "      <td>NaN</td>\n",
       "      <td>False</td>\n",
       "      <td>False</td>\n",
       "      <td>False</td>\n",
       "      <td>olx</td>\n",
       "      <td>Agentie</td>\n",
       "      <td>floresti</td>\n",
       "    </tr>\n",
       "    <tr>\n",
       "      <th>9995</th>\n",
       "      <td>af37710b14e3cfceb13abef5b2b1d206a31671c5</td>\n",
       "      <td>Apartament, 3 camere, 100 mp, parcare, zona st...</td>\n",
       "      <td>Oferta ID: 1230Va prezentam un apartament mode...</td>\n",
       "      <td>2019-04-25 15:22:00</td>\n",
       "      <td>500</td>\n",
       "      <td>EUR</td>\n",
       "      <td>Semidecomandat</td>\n",
       "      <td>540.0</td>\n",
       "      <td>Dupa 2000</td>\n",
       "      <td>4.0</td>\n",
       "      <td>NaN</td>\n",
       "      <td>True</td>\n",
       "      <td>True</td>\n",
       "      <td>False</td>\n",
       "      <td>olx</td>\n",
       "      <td>Agentie</td>\n",
       "      <td>buna ziua</td>\n",
       "    </tr>\n",
       "  </tbody>\n",
       "</table>\n",
       "</div>"
      ],
      "text/plain": [
       "                                   fingerprint  \\\n",
       "1713  f798b8784a586cc7feb0cfdf10d2ae41e62984ae   \n",
       "2186  28c3fa46d4a72dda63558cfcf4f66ac44f9bc949   \n",
       "2531  b2e62203c1ae765764ac0232f4100b337b552e8d   \n",
       "4440  380c2abf651f11dc59bbf8b61d32e1cfdc00cd71   \n",
       "8299  fa7f670e7da3aae52e73bf8a94a0adde3a4c16d0   \n",
       "9262  f4faf1040bea27fcb0cbe91cc316228d78888b9a   \n",
       "9995  af37710b14e3cfceb13abef5b2b1d206a31671c5   \n",
       "\n",
       "                                                  title  \\\n",
       "1713  For rent big apartment with 2 rooms and terrac...   \n",
       "2186  Apartament, 3 camere, 100 mp, parcare, zona st...   \n",
       "2531          Spatiu birouri, de închiriat, în Someseni   \n",
       "4440  Inchiriez apartament frumos cu 2 camere+parcar...   \n",
       "8299  For rent big apartment with 2 rooms and terrac...   \n",
       "9262  Inchiriez apartament frumos cu 2 camere+parcar...   \n",
       "9995  Apartament, 3 camere, 100 mp, parcare, zona st...   \n",
       "\n",
       "                                            description  \\\n",
       "1713  Descriere anunt3-4 min walk to USAMV!Big apart...   \n",
       "2186  Descriere anuntOferta ID: 1230Va prezentam un ...   \n",
       "2531  Descriere anuntILUSTRA IMOBILIARE  inchiriază ...   \n",
       "4440  Descriere anuntStudent Mob Cluj agentia imobil...   \n",
       "8299  3-4 min walk to USAMV!Big apartment with 2 roo...   \n",
       "9262  Student Mob Cluj agentia imobiliara cu cel mai...   \n",
       "9995  Oferta ID: 1230Va prezentam un apartament mode...   \n",
       "\n",
       "                     posted_date  price currency    partitioning  surface  \\\n",
       "1713  2019-04-28 13:12:39.825909    650      EUR      decomandat    656.0   \n",
       "2186  2019-04-28 13:23:36.516324    500      EUR  semidecomandat    540.0   \n",
       "2531  2019-04-28 13:56:14.045835   2600      EUR             NaN    500.0   \n",
       "4440  2019-04-28 14:17:28.367465    250      EUR  semidecomandat    550.0   \n",
       "8299         2019-04-23 07:06:00    650      EUR      Decomandat    656.0   \n",
       "9262         2019-04-24 10:37:00    250      EUR  Semidecomandat    550.0   \n",
       "9995         2019-04-25 15:22:00    500      EUR  Semidecomandat    540.0   \n",
       "\n",
       "     building_year  floor  number_of_rooms  terrace  parking  cellar  \\\n",
       "1713           NaN    NaN              2.0    False    False   False   \n",
       "2186          2010    4.0              3.0     True     True   False   \n",
       "2531           NaN    NaN              1.0    False     True   False   \n",
       "4440           NaN    NaN              2.0    False    False   False   \n",
       "8299           NaN    NaN              NaN    False    False   False   \n",
       "9262           NaN    NaN              NaN    False    False   False   \n",
       "9995     Dupa 2000    4.0              NaN     True     True   False   \n",
       "\n",
       "     source_website        source_offer neighborhood  \n",
       "1713         storia  Agentie imobiliara    not found  \n",
       "2186         storia  Agentie imobiliara    buna ziua  \n",
       "2531         storia  Agentie imobiliara     someseni  \n",
       "4440         storia  Agentie imobiliara     floresti  \n",
       "8299            olx             Agentie        usamv  \n",
       "9262            olx             Agentie     floresti  \n",
       "9995            olx             Agentie    buna ziua  "
      ]
     },
     "execution_count": 44,
     "metadata": {},
     "output_type": "execute_result"
    }
   ],
   "source": [
    "# Still some outliers on the surface (where do you even find a 600 m^2 apartment?)\n",
    "# Let's check them out\n",
    "df_apts.loc[df_apts.surface > 300]"
   ]
  },
  {
   "cell_type": "code",
   "execution_count": 88,
   "metadata": {},
   "outputs": [],
   "source": [
    "# The only one making sense is 2531, but it's an office space so we can safely clean them all out\n",
    "df_apts_clean = df_apts_clean_part.loc[df_apts_clean_part.surface < 300]"
   ]
  },
  {
   "cell_type": "code",
   "execution_count": 41,
   "metadata": {},
   "outputs": [
    {
     "data": {
      "image/png": "[encoded data removed]",
      "text/plain": [
       "<Figure size 432x288 with 1 Axes>"
      ]
     },
     "metadata": {
      "needs_background": "light"
     },
     "output_type": "display_data"
    }
   ],
   "source": [
    "# Let's try the linear function AGAIN\n",
    "linear_graph = sb.regplot(x=\"surface\", y=\"price\", data=df_apts_clean)"
   ]
  },
  {
   "cell_type": "code",
   "execution_count": 71,
   "metadata": {},
   "outputs": [
    {
     "data": {
      "text/html": [
       "<div>\n",
       "<style scoped>\n",
       "    .dataframe tbody tr th:only-of-type {\n",
       "        vertical-align: middle;\n",
       "    }\n",
       "\n",
       "    .dataframe tbody tr th {\n",
       "        vertical-align: top;\n",
       "    }\n",
       "\n",
       "    .dataframe thead th {\n",
       "        text-align: right;\n",
       "    }\n",
       "</style>\n",
       "<table border=\"1\" class=\"dataframe\">\n",
       "  <thead>\n",
       "    <tr style=\"text-align: right;\">\n",
       "      <th></th>\n",
       "      <th>price</th>\n",
       "      <th>surface</th>\n",
       "      <th>floor</th>\n",
       "      <th>number_of_rooms</th>\n",
       "    </tr>\n",
       "  </thead>\n",
       "  <tbody>\n",
       "    <tr>\n",
       "      <th>count</th>\n",
       "      <td>10374.000000</td>\n",
       "      <td>10374.000000</td>\n",
       "      <td>8332.000000</td>\n",
       "      <td>7355.000000</td>\n",
       "    </tr>\n",
       "    <tr>\n",
       "      <th>mean</th>\n",
       "      <td>458.886929</td>\n",
       "      <td>57.697899</td>\n",
       "      <td>3.095895</td>\n",
       "      <td>2.211421</td>\n",
       "    </tr>\n",
       "    <tr>\n",
       "      <th>std</th>\n",
       "      <td>160.983629</td>\n",
       "      <td>20.092515</td>\n",
       "      <td>2.311956</td>\n",
       "      <td>0.722068</td>\n",
       "    </tr>\n",
       "    <tr>\n",
       "      <th>min</th>\n",
       "      <td>42.000000</td>\n",
       "      <td>10.000000</td>\n",
       "      <td>-1.000000</td>\n",
       "      <td>1.000000</td>\n",
       "    </tr>\n",
       "    <tr>\n",
       "      <th>25%</th>\n",
       "      <td>370.000000</td>\n",
       "      <td>47.000000</td>\n",
       "      <td>1.000000</td>\n",
       "      <td>2.000000</td>\n",
       "    </tr>\n",
       "    <tr>\n",
       "      <th>50%</th>\n",
       "      <td>430.000000</td>\n",
       "      <td>55.000000</td>\n",
       "      <td>2.000000</td>\n",
       "      <td>2.000000</td>\n",
       "    </tr>\n",
       "    <tr>\n",
       "      <th>75%</th>\n",
       "      <td>500.000000</td>\n",
       "      <td>66.000000</td>\n",
       "      <td>4.000000</td>\n",
       "      <td>3.000000</td>\n",
       "    </tr>\n",
       "    <tr>\n",
       "      <th>max</th>\n",
       "      <td>2200.000000</td>\n",
       "      <td>220.000000</td>\n",
       "      <td>13.000000</td>\n",
       "      <td>5.000000</td>\n",
       "    </tr>\n",
       "  </tbody>\n",
       "</table>\n",
       "</div>"
      ],
      "text/plain": [
       "              price       surface        floor  number_of_rooms\n",
       "count  10374.000000  10374.000000  8332.000000      7355.000000\n",
       "mean     458.886929     57.697899     3.095895         2.211421\n",
       "std      160.983629     20.092515     2.311956         0.722068\n",
       "min       42.000000     10.000000    -1.000000         1.000000\n",
       "25%      370.000000     47.000000     1.000000         2.000000\n",
       "50%      430.000000     55.000000     2.000000         2.000000\n",
       "75%      500.000000     66.000000     4.000000         3.000000\n",
       "max     2200.000000    220.000000    13.000000         5.000000"
      ]
     },
     "execution_count": 71,
     "metadata": {},
     "output_type": "execute_result"
    }
   ],
   "source": [
    "# That's better, now the linearity is observable\n",
    "# Let's also check the data again\n",
    "df_apts_clean.describe()"
   ]
  },
  {
   "cell_type": "code",
   "execution_count": 80,
   "metadata": {},
   "outputs": [
    {
     "data": {
      "image/png": "[encoded data removed]",
      "text/plain": [
       "<Figure size 432x288 with 1 Axes>"
      ]
     },
     "metadata": {
      "needs_background": "light"
     },
     "output_type": "display_data"
    }
   ],
   "source": [
    "# Let's check out the price distribution\n",
    "skew = df_apts_clean[\"price\"].skew()\n",
    "price_dist = sb.distplot(df_apts_clean[\"price\"], color=\"m\", label=f\"Skewness {skew}\")\n",
    "price_dist = price_dist.legend(loc=\"best\")"
   ]
  },
  {
   "cell_type": "code",
   "execution_count": 42,
   "metadata": {},
   "outputs": [],
   "source": [
    "# Explanation: the skew means where the tail of the distribution is\n",
    "# if it's negative, more values in the higher part, positive, then more values in the lower part\n",
    "# conclusion: the skew is high, because we still have some extreme values wich might impact the skew"
   ]
  },
  {
   "cell_type": "code",
   "execution_count": 90,
   "metadata": {},
   "outputs": [
    {
     "data": {
      "image/png": "[encoded data removed]",
      "text/plain": [
       "<Figure size 432x288 with 1 Axes>"
      ]
     },
     "metadata": {
      "needs_background": "light"
     },
     "output_type": "display_data"
    }
   ],
   "source": [
    "# We apply a normalization procedure (logarithm of price) to minimise the impact of extreme values\n",
    "price_log = df_apts_clean[\"price\"].map(lambda i: np.log1p(i) if i > 0 else 0)\n",
    "price_log.skew()\n",
    "price_log_dist = sb.distplot(price_log, color=\"m\", label=f\"Skewness {skew}\")\n",
    "price_log_dist = price_log_dist.legend(loc=\"best\")"
   ]
  },
  {
   "cell_type": "code",
   "execution_count": 75,
   "metadata": {},
   "outputs": [],
   "source": [
    "# Way better skew, which shows that the apartment prices are near symmetric respective to their size\n",
    "# but still slightly cheaper than they are expensive"
   ]
  },
  {
   "cell_type": "code",
   "execution_count": 89,
   "metadata": {},
   "outputs": [
    {
     "data": {
      "image/png": "[encoded data removed]",
      "text/plain": [
       "<Figure size 864x864 with 2 Axes>"
      ]
     },
     "metadata": {
      "needs_background": "light"
     },
     "output_type": "display_data"
    }
   ],
   "source": [
    "# Pearson Correlations\n",
    "plt.figure(figsize=(12,12))\n",
    "heatmap = sb.heatmap(df_apts_clean.corr(), annot=True)"
   ]
  },
  {
   "cell_type": "code",
   "execution_count": 238,
   "metadata": {},
   "outputs": [],
   "source": [
    "# Explanation\n",
    "# Obvious correlation in increase between price & surface, price & number of rooms, number of rooms & surface (of course, more rooms, more space)\n",
    "# A price increase correlates the most with a parking spot, followed by a terrace and only slightly with a cellar\n",
    "# There's a slightly better chance to get parking with a larger apartment (both in surface & number of rooms)"
   ]
  },
  {
   "cell_type": "code",
   "execution_count": 248,
   "metadata": {},
   "outputs": [
    {
     "data": {
      "text/plain": [
       "zorilor              1067\n",
       "gheorgheni           1018\n",
       "marasti               983\n",
       "centru                869\n",
       "buna ziua             835\n",
       "gara                  805\n",
       "iulius                688\n",
       "manastur              548\n",
       "grigorescu            452\n",
       "andrei muresanu       258\n",
       "viteazu               218\n",
       "ultracentral          200\n",
       "borhanci              156\n",
       "plopilor              153\n",
       "iris                  146\n",
       "intre lacuri          126\n",
       "europa                116\n",
       "dorobantilor          102\n",
       "calea turzii           95\n",
       "floresti               61\n",
       "sigma                  45\n",
       "titulescu              43\n",
       "interservisan          43\n",
       "horea                  42\n",
       "gruia                  42\n",
       "dambul rotund          38\n",
       "baciu                  38\n",
       "piata unirii           31\n",
       "sopor                  28\n",
       "the office             28\n",
       "usamv                  26\n",
       "vivo                   26\n",
       "expo transilvania      23\n",
       "someseni               17\n",
       "cipariu                14\n",
       "motilor                10\n",
       "muzeului               10\n",
       "polus                   4\n",
       "becas                   4\n",
       "faget                   2\n",
       "Name: neighborhood, dtype: int64"
      ]
     },
     "execution_count": 248,
     "metadata": {},
     "output_type": "execute_result"
    }
   ],
   "source": [
    "# Apartments by neighborhood\n",
    "df_known_area = df_apts_clean[df_apts_clean.neighborhood != 'not found']\n",
    "df_known_area['neighborhood'].value_counts()"
   ]
  },
  {
   "cell_type": "code",
   "execution_count": 261,
   "metadata": {},
   "outputs": [],
   "source": [
    "# Most seem to be in Zorilor, Gheorgheni & Marasti\n",
    "# Due to data collecting, some are duplicated (e.g vivo & polus)\n",
    "# They should be grouped together\n",
    "import warnings\n",
    "warnings.filterwarnings('ignore')\n",
    "\n",
    "df_groups = df_known_area.copy()\n",
    "df_groups.neighborhood = df_known_area.neighborhood.replace({\n",
    "    'calea turzii': 'andrei muresanu',\n",
    "    'sigma': 'zorilor',\n",
    "    'cipariu':'centru',\n",
    "    'motilor':'centru', \n",
    "    'muzeului':'centru', \n",
    "    'piata unirii':'centru', \n",
    "    'viteazu': 'centru', \n",
    "    'ultracentral': 'centru',\n",
    "    'the office': 'marasti',\n",
    "    'the office': 'dorobantilor',\n",
    "    'usamv': 'manastur',\n",
    "    'polus': 'vivo',\n",
    "    'interservisan': 'gheorgheni', \n",
    "    'titulescu': 'gheorgheni', \n",
    "    'iulius': 'gheorgheni',\n",
    "    'expo transilvania':'intre lacuri',\n",
    "})"
   ]
  },
  {
   "cell_type": "code",
   "execution_count": 241,
   "metadata": {},
   "outputs": [
    {
     "data": {
      "text/plain": [
       "neighborhood\n",
       "becas                750.000000\n",
       "andrei muresanu      573.178295\n",
       "cipariu              553.571429\n",
       "ultracentral         550.940000\n",
       "piata unirii         547.903226\n",
       "muzeului             533.000000\n",
       "europa               515.086207\n",
       "plopilor             511.816993\n",
       "viteazu              504.151376\n",
       "gara                 499.351553\n",
       "centru               497.545455\n",
       "titulescu            494.139535\n",
       "faget                485.000000\n",
       "interservisan        479.441860\n",
       "buna ziua            475.802395\n",
       "iulius               474.449128\n",
       "dorobantilor         472.450980\n",
       "sigma                471.377778\n",
       "gruia                468.690476\n",
       "intre lacuri         466.103175\n",
       "borhanci             462.423077\n",
       "sopor                462.107143\n",
       "the office           461.892857\n",
       "zorilor              450.874414\n",
       "usamv                447.423077\n",
       "horea                443.095238\n",
       "marasti              434.800610\n",
       "gheorgheni           434.430255\n",
       "grigorescu           422.196903\n",
       "calea turzii         406.894737\n",
       "vivo                 398.076923\n",
       "manastur             375.890511\n",
       "motilor              372.000000\n",
       "dambul rotund        371.026316\n",
       "someseni             347.058824\n",
       "iris                 338.958904\n",
       "expo transilvania    332.173913\n",
       "baciu                322.894737\n",
       "floresti             320.737705\n",
       "polus                312.500000\n",
       "Name: price, dtype: float64"
      ]
     },
     "execution_count": 241,
     "metadata": {},
     "output_type": "execute_result"
    }
   ],
   "source": [
    "# Let's see the average price per area, no grouping\n",
    "df_known_area.groupby('neighborhood').mean().sort_values(by='price', ascending=False)['price']"
   ]
  },
  {
   "cell_type": "code",
   "execution_count": null,
   "metadata": {},
   "outputs": [],
   "source": [
    "# The most expensive apartments are apparently in Becas, in Cipariu and Ultracentral ones.\n",
    "# I would dismiss Becas & Cipariu due to the low amount of data\n",
    "# Funny fact, people who used Polus for the mall area instead of Vivo (new name) tend to put lower price"
   ]
  },
  {
   "cell_type": "code",
   "execution_count": 264,
   "metadata": {},
   "outputs": [
    {
     "data": {
      "text/plain": [
       "neighborhood\n",
       "becas              750.000000\n",
       "andrei muresanu    528.427762\n",
       "europa             515.086207\n",
       "plopilor           511.816993\n",
       "centru             507.577663\n",
       "gara               499.351553\n",
       "faget              485.000000\n",
       "buna ziua          475.802395\n",
       "dorobantilor       470.176923\n",
       "gruia              468.690476\n",
       "borhanci           462.423077\n",
       "sopor              462.107143\n",
       "gheorgheni         452.307478\n",
       "zorilor            451.704137\n",
       "intre lacuri       445.429530\n",
       "horea              443.095238\n",
       "marasti            434.800610\n",
       "grigorescu         422.196903\n",
       "vivo               386.666667\n",
       "manastur           379.130662\n",
       "dambul rotund      371.026316\n",
       "someseni           347.058824\n",
       "iris               338.958904\n",
       "baciu              322.894737\n",
       "floresti           320.737705\n",
       "Name: price, dtype: float64"
      ]
     },
     "execution_count": 264,
     "metadata": {},
     "output_type": "execute_result"
    }
   ],
   "source": [
    "# Let's see the average price per area, with grouping\n",
    "df_groups.groupby('neighborhood').mean().sort_values(by='price', ascending=False)['price']"
   ]
  },
  {
   "cell_type": "code",
   "execution_count": null,
   "metadata": {},
   "outputs": [],
   "source": [
    "# Becas remains the most expensive by far, but it's not very relevant\n",
    "# I'd say the most expensive would be Andrei Muresanu, Europa & Plopilor, while the least expensive are Floresti, Baciu and Iris"
   ]
  },
  {
   "cell_type": "code",
   "execution_count": 265,
   "metadata": {},
   "outputs": [
    {
     "data": {
      "text/plain": [
       "number_of_rooms\n",
       "1.0     958\n",
       "2.0    4210\n",
       "3.0    1881\n",
       "4.0     286\n",
       "5.0      20\n",
       "dtype: int64"
      ]
     },
     "execution_count": 265,
     "metadata": {},
     "output_type": "execute_result"
    }
   ],
   "source": [
    "# How many apartment by room count\n",
    "df_apts_clean.groupby('number_of_rooms').size()"
   ]
  },
  {
   "cell_type": "code",
   "execution_count": 266,
   "metadata": {},
   "outputs": [
    {
     "data": {
      "text/plain": [
       "(3019, 17)"
      ]
     },
     "execution_count": 266,
     "metadata": {},
     "output_type": "execute_result"
    }
   ],
   "source": [
    "# Apartment with missing number of rooms\n",
    "df_rooms_miss = df_apts_clean[df_apts_clean['number_of_rooms'].isnull()]\n",
    "df_rooms_miss.shape"
   ]
  },
  {
   "cell_type": "code",
   "execution_count": 267,
   "metadata": {},
   "outputs": [
    {
     "data": {
      "text/plain": [
       "<matplotlib.axes._subplots.AxesSubplot at 0x7f4787f23c88>"
      ]
     },
     "execution_count": 267,
     "metadata": {},
     "output_type": "execute_result"
    },
    {
     "data": {
      "image/png": "[encoded data removed]",
      "text/plain": [
       "<Figure size 432x288 with 1 Axes>"
      ]
     },
     "metadata": {
      "needs_background": "light"
     },
     "output_type": "display_data"
    }
   ],
   "source": [
    "df_1room = df_apts_clean[df_apts_clean.number_of_rooms == 1]\n",
    "df_2room = df_apts_clean[df_apts_clean.number_of_rooms == 2]\n",
    "df_3room = df_apts_clean[df_apts_clean.number_of_rooms == 3]\n",
    "df_4room = df_apts_clean[df_apts_clean.number_of_rooms == 4]\n",
    "df_5room = df_apts_clean[df_apts_clean.number_of_rooms == 5]\n",
    "# 1 room price vs surface distribution\n",
    "sb.regplot(x=\"surface\", y=\"price\", data=df_1room)\n"
   ]
  },
  {
   "cell_type": "code",
   "execution_count": 268,
   "metadata": {},
   "outputs": [
    {
     "data": {
      "text/plain": [
       "<matplotlib.axes._subplots.AxesSubplot at 0x7f4787eb6940>"
      ]
     },
     "execution_count": 268,
     "metadata": {},
     "output_type": "execute_result"
    },
    {
     "data": {
      "image/png": "[encoded data removed]",
      "text/plain": [
       "<Figure size 432x288 with 1 Axes>"
      ]
     },
     "metadata": {
      "needs_background": "light"
     },
     "output_type": "display_data"
    }
   ],
   "source": [
    "# 3 room price vs surface distribution\n",
    "sb.regplot(x=\"surface\", y=\"price\", data=df_3room)\n"
   ]
  },
  {
   "cell_type": "code",
   "execution_count": 269,
   "metadata": {},
   "outputs": [
    {
     "data": {
      "text/plain": [
       "<matplotlib.axes._subplots.AxesSubplot at 0x7f4787aea0b8>"
      ]
     },
     "execution_count": 269,
     "metadata": {},
     "output_type": "execute_result"
    },
    {
     "data": {
      "image/png": "[encoded data removed]",
      "text/plain": [
       "<Figure size 432x288 with 1 Axes>"
      ]
     },
     "metadata": {
      "needs_background": "light"
     },
     "output_type": "display_data"
    }
   ],
   "source": [
    "# 4 rooms price vs surface distribution\n",
    "sb.regplot(x=\"surface\", y=\"price\", data=df_4room)\n"
   ]
  },
  {
   "cell_type": "code",
   "execution_count": null,
   "metadata": {},
   "outputs": [],
   "source": [
    "# Some outliers can be noticed on this one\n",
    "# Some people advertise only 1 room for rent out of 4, causing this imbalance"
   ]
  },
  {
   "cell_type": "code",
   "execution_count": 270,
   "metadata": {},
   "outputs": [
    {
     "data": {
      "text/plain": [
       "<matplotlib.axes._subplots.AxesSubplot at 0x7f4789839128>"
      ]
     },
     "execution_count": 270,
     "metadata": {},
     "output_type": "execute_result"
    },
    {
     "data": {
      "image/png": "[encoded data removed]",
      "text/plain": [
       "<Figure size 432x288 with 1 Axes>"
      ]
     },
     "metadata": {
      "needs_background": "light"
     },
     "output_type": "display_data"
    }
   ],
   "source": [
    "# 5 rooms price vs surface distribution\n",
    "sb.regplot(x=\"surface\", y=\"price\", data=df_5room)\n"
   ]
  },
  {
   "cell_type": "code",
   "execution_count": 271,
   "metadata": {},
   "outputs": [
    {
     "data": {
      "text/plain": [
       "<matplotlib.axes._subplots.AxesSubplot at 0x7f47864d89e8>"
      ]
     },
     "execution_count": 271,
     "metadata": {},
     "output_type": "execute_result"
    },
    {
     "data": {
      "image/png": "[encoded data removed]",
      "text/plain": [
       "<Figure size 432x288 with 1 Axes>"
      ]
     },
     "metadata": {
      "needs_background": "light"
     },
     "output_type": "display_data"
    }
   ],
   "source": [
    "# Kept aside the 2 rooms ones (basically the ones of most interest)\n",
    "# 2 rooms price vs surface distribution\n",
    "sb.regplot(x=\"surface\", y=\"price\", data=df_2room)"
   ]
  },
  {
   "cell_type": "code",
   "execution_count": 272,
   "metadata": {},
   "outputs": [
    {
     "data": {
      "text/html": [
       "<div>\n",
       "<style scoped>\n",
       "    .dataframe tbody tr th:only-of-type {\n",
       "        vertical-align: middle;\n",
       "    }\n",
       "\n",
       "    .dataframe tbody tr th {\n",
       "        vertical-align: top;\n",
       "    }\n",
       "\n",
       "    .dataframe thead th {\n",
       "        text-align: right;\n",
       "    }\n",
       "</style>\n",
       "<table border=\"1\" class=\"dataframe\">\n",
       "  <thead>\n",
       "    <tr style=\"text-align: right;\">\n",
       "      <th></th>\n",
       "      <th>price</th>\n",
       "      <th>surface</th>\n",
       "      <th>floor</th>\n",
       "      <th>number_of_rooms</th>\n",
       "    </tr>\n",
       "  </thead>\n",
       "  <tbody>\n",
       "    <tr>\n",
       "      <th>count</th>\n",
       "      <td>4209.000000</td>\n",
       "      <td>4209.000000</td>\n",
       "      <td>3460.000000</td>\n",
       "      <td>4209.0</td>\n",
       "    </tr>\n",
       "    <tr>\n",
       "      <th>mean</th>\n",
       "      <td>434.028748</td>\n",
       "      <td>53.628178</td>\n",
       "      <td>3.119942</td>\n",
       "      <td>2.0</td>\n",
       "    </tr>\n",
       "    <tr>\n",
       "      <th>std</th>\n",
       "      <td>104.556386</td>\n",
       "      <td>8.603998</td>\n",
       "      <td>2.295163</td>\n",
       "      <td>0.0</td>\n",
       "    </tr>\n",
       "    <tr>\n",
       "      <th>min</th>\n",
       "      <td>42.000000</td>\n",
       "      <td>23.000000</td>\n",
       "      <td>-1.000000</td>\n",
       "      <td>2.0</td>\n",
       "    </tr>\n",
       "    <tr>\n",
       "      <th>25%</th>\n",
       "      <td>380.000000</td>\n",
       "      <td>50.000000</td>\n",
       "      <td>1.000000</td>\n",
       "      <td>2.0</td>\n",
       "    </tr>\n",
       "    <tr>\n",
       "      <th>50%</th>\n",
       "      <td>420.000000</td>\n",
       "      <td>54.000000</td>\n",
       "      <td>2.000000</td>\n",
       "      <td>2.0</td>\n",
       "    </tr>\n",
       "    <tr>\n",
       "      <th>75%</th>\n",
       "      <td>470.000000</td>\n",
       "      <td>58.000000</td>\n",
       "      <td>4.000000</td>\n",
       "      <td>2.0</td>\n",
       "    </tr>\n",
       "    <tr>\n",
       "      <th>max</th>\n",
       "      <td>2200.000000</td>\n",
       "      <td>120.000000</td>\n",
       "      <td>13.000000</td>\n",
       "      <td>2.0</td>\n",
       "    </tr>\n",
       "  </tbody>\n",
       "</table>\n",
       "</div>"
      ],
      "text/plain": [
       "             price      surface        floor  number_of_rooms\n",
       "count  4209.000000  4209.000000  3460.000000           4209.0\n",
       "mean    434.028748    53.628178     3.119942              2.0\n",
       "std     104.556386     8.603998     2.295163              0.0\n",
       "min      42.000000    23.000000    -1.000000              2.0\n",
       "25%     380.000000    50.000000     1.000000              2.0\n",
       "50%     420.000000    54.000000     2.000000              2.0\n",
       "75%     470.000000    58.000000     4.000000              2.0\n",
       "max    2200.000000   120.000000    13.000000              2.0"
      ]
     },
     "execution_count": 272,
     "metadata": {},
     "output_type": "execute_result"
    }
   ],
   "source": [
    "df_2room = df_2room[df_2room.currency == 'EUR']\n",
    "df_2room.describe()"
   ]
  },
  {
   "cell_type": "code",
   "execution_count": 273,
   "metadata": {},
   "outputs": [
    {
     "data": {
      "text/plain": [
       "gheorgheni         762\n",
       "centru             580\n",
       "buna ziua          435\n",
       "zorilor            395\n",
       "marasti            373\n",
       "gara               344\n",
       "manastur           213\n",
       "grigorescu         203\n",
       "andrei muresanu    129\n",
       "plopilor            75\n",
       "borhanci            56\n",
       "iris                54\n",
       "intre lacuri        53\n",
       "europa              47\n",
       "dorobantilor        47\n",
       "horea               20\n",
       "floresti            18\n",
       "gruia               18\n",
       "baciu               17\n",
       "dambul rotund       12\n",
       "sopor                8\n",
       "vivo                 7\n",
       "someseni             4\n",
       "Name: neighborhood, dtype: int64"
      ]
     },
     "execution_count": 273,
     "metadata": {},
     "output_type": "execute_result"
    }
   ],
   "source": [
    "# The average price for a 2-room apartment is 434\n",
    "# Average size is 53 sqm\n",
    "# Let's see how many are there per area\n",
    "# Apply same cleaning as for the general one\n",
    "df_2room_known = df_2room[df_2room.neighborhood != 'not found']\n",
    "df_2room_grouped = df_2room_known.copy()\n",
    "df_2room_grouped.neighborhood = df_2room_grouped.neighborhood.replace({\n",
    "    'calea turzii': 'andrei muresanu',\n",
    "    'sigma': 'zorilor',\n",
    "    'cipariu':'centru',\n",
    "    'motilor':'centru', \n",
    "    'muzeului':'centru', \n",
    "    'piata unirii':'centru', \n",
    "    'viteazu': 'centru', \n",
    "    'ultracentral': 'centru',\n",
    "    'the office': 'marasti',\n",
    "    'the office': 'dorobantilor',\n",
    "    'usamv': 'manastur',\n",
    "    'polus': 'vivo',\n",
    "    'interservisan': 'gheorgheni', \n",
    "    'titulescu': 'gheorgheni', \n",
    "    'iulius': 'gheorgheni',\n",
    "    'expo transilvania':'intre lacuri',\n",
    "})\n",
    "df_2room_grouped['neighborhood'].value_counts()"
   ]
  },
  {
   "cell_type": "code",
   "execution_count": 274,
   "metadata": {},
   "outputs": [
    {
     "data": {
      "text/plain": [
       "neighborhood\n",
       "plopilor           493.466667\n",
       "centru             482.168966\n",
       "gruia              468.666667\n",
       "sopor              467.500000\n",
       "gara               466.261628\n",
       "buna ziua          438.321839\n",
       "horea              437.250000\n",
       "europa             437.021277\n",
       "gheorgheni         435.220472\n",
       "dorobantilor       431.340426\n",
       "marasti            429.136729\n",
       "andrei muresanu    428.480620\n",
       "zorilor            416.415190\n",
       "intre lacuri       415.622642\n",
       "borhanci           413.178571\n",
       "grigorescu         390.699507\n",
       "manastur           368.258216\n",
       "dambul rotund      368.250000\n",
       "vivo               366.428571\n",
       "someseni           360.000000\n",
       "iris               341.944444\n",
       "floresti           328.333333\n",
       "baciu              314.705882\n",
       "Name: price, dtype: float64"
      ]
     },
     "execution_count": 274,
     "metadata": {},
     "output_type": "execute_result"
    }
   ],
   "source": [
    "df_2room_grouped.groupby('neighborhood').mean().sort_values(by='price', ascending=False)['price']"
   ]
  },
  {
   "cell_type": "code",
   "execution_count": 285,
   "metadata": {},
   "outputs": [
    {
     "data": {
      "text/html": [
       "<div>\n",
       "<style scoped>\n",
       "    .dataframe tbody tr th:only-of-type {\n",
       "        vertical-align: middle;\n",
       "    }\n",
       "\n",
       "    .dataframe tbody tr th {\n",
       "        vertical-align: top;\n",
       "    }\n",
       "\n",
       "    .dataframe thead th {\n",
       "        text-align: right;\n",
       "    }\n",
       "</style>\n",
       "<table border=\"1\" class=\"dataframe\">\n",
       "  <thead>\n",
       "    <tr style=\"text-align: right;\">\n",
       "      <th></th>\n",
       "      <th>price</th>\n",
       "      <th>surface</th>\n",
       "      <th>floor</th>\n",
       "      <th>number_of_rooms</th>\n",
       "    </tr>\n",
       "  </thead>\n",
       "  <tbody>\n",
       "    <tr>\n",
       "      <th>count</th>\n",
       "      <td>35.000000</td>\n",
       "      <td>35.000000</td>\n",
       "      <td>29.000000</td>\n",
       "      <td>35.0</td>\n",
       "    </tr>\n",
       "    <tr>\n",
       "      <th>mean</th>\n",
       "      <td>507.114286</td>\n",
       "      <td>57.457143</td>\n",
       "      <td>2.724138</td>\n",
       "      <td>2.0</td>\n",
       "    </tr>\n",
       "    <tr>\n",
       "      <th>std</th>\n",
       "      <td>130.342258</td>\n",
       "      <td>8.321987</td>\n",
       "      <td>1.729916</td>\n",
       "      <td>0.0</td>\n",
       "    </tr>\n",
       "    <tr>\n",
       "      <th>min</th>\n",
       "      <td>350.000000</td>\n",
       "      <td>46.000000</td>\n",
       "      <td>1.000000</td>\n",
       "      <td>2.0</td>\n",
       "    </tr>\n",
       "    <tr>\n",
       "      <th>25%</th>\n",
       "      <td>400.000000</td>\n",
       "      <td>50.500000</td>\n",
       "      <td>1.000000</td>\n",
       "      <td>2.0</td>\n",
       "    </tr>\n",
       "    <tr>\n",
       "      <th>50%</th>\n",
       "      <td>450.000000</td>\n",
       "      <td>55.000000</td>\n",
       "      <td>3.000000</td>\n",
       "      <td>2.0</td>\n",
       "    </tr>\n",
       "    <tr>\n",
       "      <th>75%</th>\n",
       "      <td>550.000000</td>\n",
       "      <td>60.000000</td>\n",
       "      <td>4.000000</td>\n",
       "      <td>2.0</td>\n",
       "    </tr>\n",
       "    <tr>\n",
       "      <th>max</th>\n",
       "      <td>800.000000</td>\n",
       "      <td>80.000000</td>\n",
       "      <td>8.000000</td>\n",
       "      <td>2.0</td>\n",
       "    </tr>\n",
       "  </tbody>\n",
       "</table>\n",
       "</div>"
      ],
      "text/plain": [
       "            price    surface      floor  number_of_rooms\n",
       "count   35.000000  35.000000  29.000000             35.0\n",
       "mean   507.114286  57.457143   2.724138              2.0\n",
       "std    130.342258   8.321987   1.729916              0.0\n",
       "min    350.000000  46.000000   1.000000              2.0\n",
       "25%    400.000000  50.500000   1.000000              2.0\n",
       "50%    450.000000  55.000000   3.000000              2.0\n",
       "75%    550.000000  60.000000   4.000000              2.0\n",
       "max    800.000000  80.000000   8.000000              2.0"
      ]
     },
     "execution_count": 285,
     "metadata": {},
     "output_type": "execute_result"
    }
   ],
   "source": [
    "# Most desirable apartments have all the amenities: parking, cellar and terrace\n",
    "df_all_amenities = df_2room_grouped[(df_2room_grouped.terrace == True) & (df_2room_grouped.parking == True) & (df_2room_grouped.cellar == True)]\n",
    "df_all_amenities.describe()"
   ]
  },
  {
   "cell_type": "code",
   "execution_count": 287,
   "metadata": {},
   "outputs": [
    {
     "data": {
      "text/plain": [
       "neighborhood\n",
       "andrei muresanu    1\n",
       "borhanci           1\n",
       "buna ziua          5\n",
       "centru             3\n",
       "dorobantilor       1\n",
       "gara               9\n",
       "gheorgheni         4\n",
       "grigorescu         4\n",
       "intre lacuri       1\n",
       "manastur           1\n",
       "marasti            3\n",
       "zorilor            2\n",
       "dtype: int64"
      ]
     },
     "execution_count": 287,
     "metadata": {},
     "output_type": "execute_result"
    }
   ],
   "source": [
    "df_all_amenities.groupby('neighborhood').size()"
   ]
  },
  {
   "cell_type": "code",
   "execution_count": 299,
   "metadata": {},
   "outputs": [
    {
     "data": {
      "text/html": [
       "<div>\n",
       "<style scoped>\n",
       "    .dataframe tbody tr th:only-of-type {\n",
       "        vertical-align: middle;\n",
       "    }\n",
       "\n",
       "    .dataframe tbody tr th {\n",
       "        vertical-align: top;\n",
       "    }\n",
       "\n",
       "    .dataframe thead th {\n",
       "        text-align: right;\n",
       "    }\n",
       "</style>\n",
       "<table border=\"1\" class=\"dataframe\">\n",
       "  <thead>\n",
       "    <tr style=\"text-align: right;\">\n",
       "      <th></th>\n",
       "      <th>title</th>\n",
       "      <th>price</th>\n",
       "      <th>currency</th>\n",
       "      <th>surface</th>\n",
       "      <th>floor</th>\n",
       "      <th>neighborhood</th>\n",
       "    </tr>\n",
       "  </thead>\n",
       "  <tbody>\n",
       "    <tr>\n",
       "      <th>164</th>\n",
       "      <td>Apartament ultrafinisat, living+dormitor, 70mp, 2 parcari, zona FSEGA</td>\n",
       "      <td>649</td>\n",
       "      <td>EUR</td>\n",
       "      <td>70.0</td>\n",
       "      <td>6.0</td>\n",
       "      <td>gheorgheni</td>\n",
       "    </tr>\n",
       "    <tr>\n",
       "      <th>516</th>\n",
       "      <td>Apartament Gruia,60 mp,superfinisat,garaj,gradina-270 mp</td>\n",
       "      <td>680</td>\n",
       "      <td>EUR</td>\n",
       "      <td>60.0</td>\n",
       "      <td>NaN</td>\n",
       "      <td>gara</td>\n",
       "    </tr>\n",
       "    <tr>\n",
       "      <th>540</th>\n",
       "      <td>Apartament 2 camere de inchiriat zona Marasti</td>\n",
       "      <td>400</td>\n",
       "      <td>EUR</td>\n",
       "      <td>79.0</td>\n",
       "      <td>4.0</td>\n",
       "      <td>marasti</td>\n",
       "    </tr>\n",
       "    <tr>\n",
       "      <th>565</th>\n",
       "      <td>Inchiriere apartament de 2 camere, zona Gheorgheni</td>\n",
       "      <td>430</td>\n",
       "      <td>EUR</td>\n",
       "      <td>56.0</td>\n",
       "      <td>4.0</td>\n",
       "      <td>gheorgheni</td>\n",
       "    </tr>\n",
       "    <tr>\n",
       "      <th>991</th>\n",
       "      <td>Apartament in bloc nou, 2 camere,aproape de Iulius Mall, Gheorgheni.</td>\n",
       "      <td>400</td>\n",
       "      <td>EUR</td>\n",
       "      <td>80.0</td>\n",
       "      <td>4.0</td>\n",
       "      <td>gheorgheni</td>\n",
       "    </tr>\n",
       "    <tr>\n",
       "      <th>1052</th>\n",
       "      <td>Apartament 2 camere, Buna Ziua</td>\n",
       "      <td>450</td>\n",
       "      <td>EUR</td>\n",
       "      <td>50.0</td>\n",
       "      <td>1.0</td>\n",
       "      <td>buna ziua</td>\n",
       "    </tr>\n",
       "    <tr>\n",
       "      <th>1065</th>\n",
       "      <td>Apartament cu 2 camere in Marasti</td>\n",
       "      <td>400</td>\n",
       "      <td>EUR</td>\n",
       "      <td>68.0</td>\n",
       "      <td>4.0</td>\n",
       "      <td>marasti</td>\n",
       "    </tr>\n",
       "    <tr>\n",
       "      <th>1238</th>\n",
       "      <td>IA2 78858, Apartament modern, 2 camere, 48 mp utili, Buna Ziua</td>\n",
       "      <td>500</td>\n",
       "      <td>EUR</td>\n",
       "      <td>48.0</td>\n",
       "      <td>1.0</td>\n",
       "      <td>buna ziua</td>\n",
       "    </tr>\n",
       "    <tr>\n",
       "      <th>1254</th>\n",
       "      <td>Apartament Gruia superfinisat,garaj,terasa,60 mp,prima inchiriere</td>\n",
       "      <td>800</td>\n",
       "      <td>EUR</td>\n",
       "      <td>60.0</td>\n",
       "      <td>1.0</td>\n",
       "      <td>gara</td>\n",
       "    </tr>\n",
       "    <tr>\n",
       "      <th>1309</th>\n",
       "      <td>Apartament Gruia,60 mp,superfinisat,garaj,gradina-270 mp</td>\n",
       "      <td>750</td>\n",
       "      <td>EUR</td>\n",
       "      <td>60.0</td>\n",
       "      <td>NaN</td>\n",
       "      <td>gara</td>\n",
       "    </tr>\n",
       "    <tr>\n",
       "      <th>1351</th>\n",
       "      <td>Apartament Gruia,60 mp,superfinisat,garaj,gradina-270 mp</td>\n",
       "      <td>680</td>\n",
       "      <td>EUR</td>\n",
       "      <td>60.0</td>\n",
       "      <td>NaN</td>\n",
       "      <td>gara</td>\n",
       "    </tr>\n",
       "    <tr>\n",
       "      <th>1847</th>\n",
       "      <td>Apartament 2 camere Ultrafinisat cu panorama de EXCEPTIE</td>\n",
       "      <td>800</td>\n",
       "      <td>EUR</td>\n",
       "      <td>60.0</td>\n",
       "      <td>2.0</td>\n",
       "      <td>gara</td>\n",
       "    </tr>\n",
       "    <tr>\n",
       "      <th>1955</th>\n",
       "      <td>IA2 78858, Apartament 2 camere decomandate, 48 mp utili, Buna Ziua</td>\n",
       "      <td>500</td>\n",
       "      <td>EUR</td>\n",
       "      <td>48.0</td>\n",
       "      <td>1.0</td>\n",
       "      <td>buna ziua</td>\n",
       "    </tr>\n",
       "    <tr>\n",
       "      <th>2204</th>\n",
       "      <td>Apartament, 2 camere, parcare, pet friendly, cartierul Grigorescu</td>\n",
       "      <td>430</td>\n",
       "      <td>EUR</td>\n",
       "      <td>55.0</td>\n",
       "      <td>NaN</td>\n",
       "      <td>grigorescu</td>\n",
       "    </tr>\n",
       "    <tr>\n",
       "      <th>2422</th>\n",
       "      <td>Apartament 2 camere, 51 mp, loc parcare, boxa la subsol, zona...</td>\n",
       "      <td>400</td>\n",
       "      <td>EUR</td>\n",
       "      <td>51.0</td>\n",
       "      <td>NaN</td>\n",
       "      <td>buna ziua</td>\n",
       "    </tr>\n",
       "    <tr>\n",
       "      <th>2589</th>\n",
       "      <td>APARTAMENT 2 CAMERE CALEA TURZII</td>\n",
       "      <td>400</td>\n",
       "      <td>EUR</td>\n",
       "      <td>64.0</td>\n",
       "      <td>1.0</td>\n",
       "      <td>andrei muresanu</td>\n",
       "    </tr>\n",
       "    <tr>\n",
       "      <th>2690</th>\n",
       "      <td>Inchiriere apartament 2 camere cu garaj Gheorgheni</td>\n",
       "      <td>400</td>\n",
       "      <td>EUR</td>\n",
       "      <td>46.0</td>\n",
       "      <td>3.0</td>\n",
       "      <td>gara</td>\n",
       "    </tr>\n",
       "    <tr>\n",
       "      <th>3536</th>\n",
       "      <td>Apartament 2 camere, 50mp, decomandat, garaj, Zorilor</td>\n",
       "      <td>420</td>\n",
       "      <td>EUR</td>\n",
       "      <td>50.0</td>\n",
       "      <td>3.0</td>\n",
       "      <td>gara</td>\n",
       "    </tr>\n",
       "    <tr>\n",
       "      <th>3575</th>\n",
       "      <td>Apartament 2 camere decomandate, 50 mp, renovat recent, zona Coloane</td>\n",
       "      <td>420</td>\n",
       "      <td>EUR</td>\n",
       "      <td>50.0</td>\n",
       "      <td>4.0</td>\n",
       "      <td>grigorescu</td>\n",
       "    </tr>\n",
       "    <tr>\n",
       "      <th>4162</th>\n",
       "      <td>Apartament cu 2 camere decomandate  de închiriat în zona Grigorescu</td>\n",
       "      <td>450</td>\n",
       "      <td>EUR</td>\n",
       "      <td>53.0</td>\n",
       "      <td>1.0</td>\n",
       "      <td>grigorescu</td>\n",
       "    </tr>\n",
       "    <tr>\n",
       "      <th>4284</th>\n",
       "      <td>Apartament 2 camere, decomandat, zona Intre Lacuri</td>\n",
       "      <td>400</td>\n",
       "      <td>EUR</td>\n",
       "      <td>58.0</td>\n",
       "      <td>3.0</td>\n",
       "      <td>intre lacuri</td>\n",
       "    </tr>\n",
       "    <tr>\n",
       "      <th>4412</th>\n",
       "      <td>Apartament cu 2 camere de închiriat în zona Zorilor</td>\n",
       "      <td>500</td>\n",
       "      <td>EUR</td>\n",
       "      <td>54.0</td>\n",
       "      <td>4.0</td>\n",
       "      <td>zorilor</td>\n",
       "    </tr>\n",
       "    <tr>\n",
       "      <th>4567</th>\n",
       "      <td>Apartament 2 camere cu gradina 55 mp si garaj</td>\n",
       "      <td>450</td>\n",
       "      <td>EUR</td>\n",
       "      <td>55.0</td>\n",
       "      <td>NaN</td>\n",
       "      <td>gara</td>\n",
       "    </tr>\n",
       "    <tr>\n",
       "      <th>4805</th>\n",
       "      <td>Apartament de inchiriat, 2 camere, 55 mp, Gheorgheni</td>\n",
       "      <td>500</td>\n",
       "      <td>EUR</td>\n",
       "      <td>55.0</td>\n",
       "      <td>8.0</td>\n",
       "      <td>gheorgheni</td>\n",
       "    </tr>\n",
       "    <tr>\n",
       "      <th>5360</th>\n",
       "      <td>Se inchirieaza apartament 64 mp Zorilor</td>\n",
       "      <td>400</td>\n",
       "      <td>EUR</td>\n",
       "      <td>64.0</td>\n",
       "      <td>1.0</td>\n",
       "      <td>zorilor</td>\n",
       "    </tr>\n",
       "    <tr>\n",
       "      <th>5407</th>\n",
       "      <td>Apartament 2 camere, 55 mp, prima inchiriere, MOBILAT LUX,...</td>\n",
       "      <td>550</td>\n",
       "      <td>EUR</td>\n",
       "      <td>55.0</td>\n",
       "      <td>2.0</td>\n",
       "      <td>centru</td>\n",
       "    </tr>\n",
       "    <tr>\n",
       "      <th>5458</th>\n",
       "      <td>Apartament 2 camere, 2 parcari, Dorobantilor la 5 minute de Tribunal!</td>\n",
       "      <td>550</td>\n",
       "      <td>EUR</td>\n",
       "      <td>55.0</td>\n",
       "      <td>2.0</td>\n",
       "      <td>dorobantilor</td>\n",
       "    </tr>\n",
       "    <tr>\n",
       "      <th>6009</th>\n",
       "      <td>Apartament cu 2 camere semicentral</td>\n",
       "      <td>550</td>\n",
       "      <td>EUR</td>\n",
       "      <td>60.0</td>\n",
       "      <td>3.0</td>\n",
       "      <td>centru</td>\n",
       "    </tr>\n",
       "    <tr>\n",
       "      <th>6360</th>\n",
       "      <td>Chirie apartament de 2 camere zona Borhanci, accesibil si linistit, su</td>\n",
       "      <td>470</td>\n",
       "      <td>EUR</td>\n",
       "      <td>55.0</td>\n",
       "      <td>1.0</td>\n",
       "      <td>borhanci</td>\n",
       "    </tr>\n",
       "    <tr>\n",
       "      <th>8244</th>\n",
       "      <td>Apartament 2 camere decomandate, 50 mp, renovat recent, zona Coloane</td>\n",
       "      <td>420</td>\n",
       "      <td>EUR</td>\n",
       "      <td>50.0</td>\n",
       "      <td>4.0</td>\n",
       "      <td>grigorescu</td>\n",
       "    </tr>\n",
       "    <tr>\n",
       "      <th>8561</th>\n",
       "      <td>IA2 78858, Apartament 2 camere decomandate, 48 mp utili, Buna Ziua</td>\n",
       "      <td>500</td>\n",
       "      <td>EUR</td>\n",
       "      <td>48.0</td>\n",
       "      <td>1.0</td>\n",
       "      <td>buna ziua</td>\n",
       "    </tr>\n",
       "    <tr>\n",
       "      <th>8919</th>\n",
       "      <td>Apartament cu 2 camere de închiriat în zona Manastur</td>\n",
       "      <td>350</td>\n",
       "      <td>EUR</td>\n",
       "      <td>46.0</td>\n",
       "      <td>1.0</td>\n",
       "      <td>manastur</td>\n",
       "    </tr>\n",
       "    <tr>\n",
       "      <th>9730</th>\n",
       "      <td>Apartament cu 2 camere semicentral</td>\n",
       "      <td>550</td>\n",
       "      <td>EUR</td>\n",
       "      <td>60.0</td>\n",
       "      <td>3.0</td>\n",
       "      <td>centru</td>\n",
       "    </tr>\n",
       "    <tr>\n",
       "      <th>9850</th>\n",
       "      <td>Apartament 2 camere Ultrafinisat cu panorama de EXCEPTIE</td>\n",
       "      <td>800</td>\n",
       "      <td>EUR</td>\n",
       "      <td>60.0</td>\n",
       "      <td>2.0</td>\n",
       "      <td>gara</td>\n",
       "    </tr>\n",
       "    <tr>\n",
       "      <th>10359</th>\n",
       "      <td>Apartament cu 2 camere in Marasti</td>\n",
       "      <td>400</td>\n",
       "      <td>EUR</td>\n",
       "      <td>68.0</td>\n",
       "      <td>4.0</td>\n",
       "      <td>marasti</td>\n",
       "    </tr>\n",
       "  </tbody>\n",
       "</table>\n",
       "</div>"
      ],
      "text/plain": [
       "                                                                        title  price currency  surface  floor     neighborhood\n",
       "164     Apartament ultrafinisat, living+dormitor, 70mp, 2 parcari, zona FSEGA    649      EUR     70.0    6.0       gheorgheni\n",
       "516                  Apartament Gruia,60 mp,superfinisat,garaj,gradina-270 mp    680      EUR     60.0    NaN             gara\n",
       "540                             Apartament 2 camere de inchiriat zona Marasti    400      EUR     79.0    4.0          marasti\n",
       "565                        Inchiriere apartament de 2 camere, zona Gheorgheni    430      EUR     56.0    4.0       gheorgheni\n",
       "991      Apartament in bloc nou, 2 camere,aproape de Iulius Mall, Gheorgheni.    400      EUR     80.0    4.0       gheorgheni\n",
       "1052                                           Apartament 2 camere, Buna Ziua    450      EUR     50.0    1.0        buna ziua\n",
       "1065                                        Apartament cu 2 camere in Marasti    400      EUR     68.0    4.0          marasti\n",
       "1238           IA2 78858, Apartament modern, 2 camere, 48 mp utili, Buna Ziua    500      EUR     48.0    1.0        buna ziua\n",
       "1254        Apartament Gruia superfinisat,garaj,terasa,60 mp,prima inchiriere    800      EUR     60.0    1.0             gara\n",
       "1309                 Apartament Gruia,60 mp,superfinisat,garaj,gradina-270 mp    750      EUR     60.0    NaN             gara\n",
       "1351                 Apartament Gruia,60 mp,superfinisat,garaj,gradina-270 mp    680      EUR     60.0    NaN             gara\n",
       "1847                 Apartament 2 camere Ultrafinisat cu panorama de EXCEPTIE    800      EUR     60.0    2.0             gara\n",
       "1955       IA2 78858, Apartament 2 camere decomandate, 48 mp utili, Buna Ziua    500      EUR     48.0    1.0        buna ziua\n",
       "2204        Apartament, 2 camere, parcare, pet friendly, cartierul Grigorescu    430      EUR     55.0    NaN       grigorescu\n",
       "2422         Apartament 2 camere, 51 mp, loc parcare, boxa la subsol, zona...    400      EUR     51.0    NaN        buna ziua\n",
       "2589                                         APARTAMENT 2 CAMERE CALEA TURZII    400      EUR     64.0    1.0  andrei muresanu\n",
       "2690                       Inchiriere apartament 2 camere cu garaj Gheorgheni    400      EUR     46.0    3.0             gara\n",
       "3536                    Apartament 2 camere, 50mp, decomandat, garaj, Zorilor    420      EUR     50.0    3.0             gara\n",
       "3575     Apartament 2 camere decomandate, 50 mp, renovat recent, zona Coloane    420      EUR     50.0    4.0       grigorescu\n",
       "4162      Apartament cu 2 camere decomandate  de închiriat în zona Grigorescu    450      EUR     53.0    1.0       grigorescu\n",
       "4284                       Apartament 2 camere, decomandat, zona Intre Lacuri    400      EUR     58.0    3.0     intre lacuri\n",
       "4412                      Apartament cu 2 camere de închiriat în zona Zorilor    500      EUR     54.0    4.0          zorilor\n",
       "4567                            Apartament 2 camere cu gradina 55 mp si garaj    450      EUR     55.0    NaN             gara\n",
       "4805                     Apartament de inchiriat, 2 camere, 55 mp, Gheorgheni    500      EUR     55.0    8.0       gheorgheni\n",
       "5360                                  Se inchirieaza apartament 64 mp Zorilor    400      EUR     64.0    1.0          zorilor\n",
       "5407            Apartament 2 camere, 55 mp, prima inchiriere, MOBILAT LUX,...    550      EUR     55.0    2.0           centru\n",
       "5458    Apartament 2 camere, 2 parcari, Dorobantilor la 5 minute de Tribunal!    550      EUR     55.0    2.0     dorobantilor\n",
       "6009                                       Apartament cu 2 camere semicentral    550      EUR     60.0    3.0           centru\n",
       "6360   Chirie apartament de 2 camere zona Borhanci, accesibil si linistit, su    470      EUR     55.0    1.0         borhanci\n",
       "8244     Apartament 2 camere decomandate, 50 mp, renovat recent, zona Coloane    420      EUR     50.0    4.0       grigorescu\n",
       "8561       IA2 78858, Apartament 2 camere decomandate, 48 mp utili, Buna Ziua    500      EUR     48.0    1.0        buna ziua\n",
       "8919                     Apartament cu 2 camere de închiriat în zona Manastur    350      EUR     46.0    1.0         manastur\n",
       "9730                                       Apartament cu 2 camere semicentral    550      EUR     60.0    3.0           centru\n",
       "9850                 Apartament 2 camere Ultrafinisat cu panorama de EXCEPTIE    800      EUR     60.0    2.0             gara\n",
       "10359                                       Apartament cu 2 camere in Marasti    400      EUR     68.0    4.0          marasti"
      ]
     },
     "execution_count": 299,
     "metadata": {},
     "output_type": "execute_result"
    }
   ],
   "source": [
    "pd.set_option('max_colwidth', 1000)\n",
    "df_all_amenities[['title', 'price', 'currency', 'surface', 'floor', 'neighborhood']]"
   ]
  },
  {
   "cell_type": "code",
   "execution_count": null,
   "metadata": {},
   "outputs": [],
   "source": []
  }
 ],
 "metadata": {
  "kernelspec": {
   "display_name": "Python 3",
   "language": "python",
   "name": "python3"
  },
  "language_info": {
   "codemirror_mode": {
    "name": "ipython",
    "version": 3
   },
   "file_extension": ".py",
   "mimetype": "text/x-python",
   "name": "python",
   "nbconvert_exporter": "python",
   "pygments_lexer": "ipython3",
   "version": "3.7.1"
  }
 },
 "nbformat": 4,
 "nbformat_minor": 2
}
