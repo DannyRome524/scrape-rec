{
 "cells": [
  {
   "cell_type": "code",
   "execution_count": 50,
   "metadata": {},
   "outputs": [],
   "source": [
    "import pandas as pd\n",
    "import matplotlib as plt\n",
    "import seaborn as sb\n",
    "import numpy as np"
   ]
  },
  {
   "cell_type": "code",
   "execution_count": 2,
   "metadata": {},
   "outputs": [],
   "source": [
    "df_apts = pd.read_csv('apartment-data.csv')"
   ]
  },
  {
   "cell_type": "code",
   "execution_count": 3,
   "metadata": {},
   "outputs": [
    {
     "data": {
      "text/plain": [
       "(10445, 17)"
      ]
     },
     "execution_count": 3,
     "metadata": {},
     "output_type": "execute_result"
    }
   ],
   "source": [
    "# Number of rows, columns\n",
    "df_apts.shape"
   ]
  },
  {
   "cell_type": "code",
   "execution_count": 4,
   "metadata": {},
   "outputs": [
    {
     "data": {
      "text/html": [
       "<div>\n",
       "<style scoped>\n",
       "    .dataframe tbody tr th:only-of-type {\n",
       "        vertical-align: middle;\n",
       "    }\n",
       "\n",
       "    .dataframe tbody tr th {\n",
       "        vertical-align: top;\n",
       "    }\n",
       "\n",
       "    .dataframe thead th {\n",
       "        text-align: right;\n",
       "    }\n",
       "</style>\n",
       "<table border=\"1\" class=\"dataframe\">\n",
       "  <thead>\n",
       "    <tr style=\"text-align: right;\">\n",
       "      <th></th>\n",
       "      <th>fingerprint</th>\n",
       "      <th>title</th>\n",
       "      <th>description</th>\n",
       "      <th>posted_date</th>\n",
       "      <th>price</th>\n",
       "      <th>currency</th>\n",
       "      <th>partitioning</th>\n",
       "      <th>surface</th>\n",
       "      <th>building_year</th>\n",
       "      <th>floor</th>\n",
       "      <th>number_of_rooms</th>\n",
       "      <th>terrace</th>\n",
       "      <th>parking</th>\n",
       "      <th>cellar</th>\n",
       "      <th>source_website</th>\n",
       "      <th>source_offer</th>\n",
       "      <th>neighborhood</th>\n",
       "    </tr>\n",
       "  </thead>\n",
       "  <tbody>\n",
       "    <tr>\n",
       "      <th>0</th>\n",
       "      <td>f312def4af9fbaa38f2c8b33e94ccac00d728791</td>\n",
       "      <td>Apartament 3 camere RIVIERA LUXURY</td>\n",
       "      <td>Descriere anuntVa oferim spre inchiriere un ap...</td>\n",
       "      <td>2019-04-28 12:33:47.528798</td>\n",
       "      <td>1000</td>\n",
       "      <td>EUR</td>\n",
       "      <td>semidecomandat</td>\n",
       "      <td>87.0</td>\n",
       "      <td>2015</td>\n",
       "      <td>3.0</td>\n",
       "      <td>3.0</td>\n",
       "      <td>True</td>\n",
       "      <td>False</td>\n",
       "      <td>False</td>\n",
       "      <td>storia</td>\n",
       "      <td>Agentie imobiliara</td>\n",
       "      <td>centru</td>\n",
       "    </tr>\n",
       "    <tr>\n",
       "      <th>1</th>\n",
       "      <td>6b2d1adf50ed92151652bd50ebc14ebd6f53e00b</td>\n",
       "      <td>Apartament, 2 camere, 55 mp, parcare, pe Eugen...</td>\n",
       "      <td>Descriere anuntOferta ID: 1661Va prezentam un ...</td>\n",
       "      <td>2019-04-28 12:33:48.187126</td>\n",
       "      <td>400</td>\n",
       "      <td>EUR</td>\n",
       "      <td>semidecomandat</td>\n",
       "      <td>55.0</td>\n",
       "      <td>2010</td>\n",
       "      <td>3.0</td>\n",
       "      <td>2.0</td>\n",
       "      <td>False</td>\n",
       "      <td>True</td>\n",
       "      <td>False</td>\n",
       "      <td>storia</td>\n",
       "      <td>Agentie imobiliara</td>\n",
       "      <td>europa</td>\n",
       "    </tr>\n",
       "    <tr>\n",
       "      <th>2</th>\n",
       "      <td>eeeb937e2eb98bce23a3b72dea5e4e986352a35f</td>\n",
       "      <td>Apartament, 1 camera, 39 mp, terasa, pe Calea ...</td>\n",
       "      <td>Descriere anuntOferta ID: 1043Va prezentam un ...</td>\n",
       "      <td>2019-04-28 12:33:49.447887</td>\n",
       "      <td>300</td>\n",
       "      <td>EUR</td>\n",
       "      <td>decomandat</td>\n",
       "      <td>39.0</td>\n",
       "      <td>2012</td>\n",
       "      <td>10.0</td>\n",
       "      <td>1.0</td>\n",
       "      <td>True</td>\n",
       "      <td>False</td>\n",
       "      <td>False</td>\n",
       "      <td>storia</td>\n",
       "      <td>Agentie imobiliara</td>\n",
       "      <td>calea turzii</td>\n",
       "    </tr>\n",
       "  </tbody>\n",
       "</table>\n",
       "</div>"
      ],
      "text/plain": [
       "                                fingerprint  \\\n",
       "0  f312def4af9fbaa38f2c8b33e94ccac00d728791   \n",
       "1  6b2d1adf50ed92151652bd50ebc14ebd6f53e00b   \n",
       "2  eeeb937e2eb98bce23a3b72dea5e4e986352a35f   \n",
       "\n",
       "                                               title  \\\n",
       "0                 Apartament 3 camere RIVIERA LUXURY   \n",
       "1  Apartament, 2 camere, 55 mp, parcare, pe Eugen...   \n",
       "2  Apartament, 1 camera, 39 mp, terasa, pe Calea ...   \n",
       "\n",
       "                                         description  \\\n",
       "0  Descriere anuntVa oferim spre inchiriere un ap...   \n",
       "1  Descriere anuntOferta ID: 1661Va prezentam un ...   \n",
       "2  Descriere anuntOferta ID: 1043Va prezentam un ...   \n",
       "\n",
       "                  posted_date  price currency    partitioning  surface  \\\n",
       "0  2019-04-28 12:33:47.528798   1000      EUR  semidecomandat     87.0   \n",
       "1  2019-04-28 12:33:48.187126    400      EUR  semidecomandat     55.0   \n",
       "2  2019-04-28 12:33:49.447887    300      EUR      decomandat     39.0   \n",
       "\n",
       "  building_year  floor  number_of_rooms  terrace  parking  cellar  \\\n",
       "0          2015    3.0              3.0     True    False   False   \n",
       "1          2010    3.0              2.0    False     True   False   \n",
       "2          2012   10.0              1.0     True    False   False   \n",
       "\n",
       "  source_website        source_offer  neighborhood  \n",
       "0         storia  Agentie imobiliara        centru  \n",
       "1         storia  Agentie imobiliara        europa  \n",
       "2         storia  Agentie imobiliara  calea turzii  "
      ]
     },
     "execution_count": 4,
     "metadata": {},
     "output_type": "execute_result"
    }
   ],
   "source": [
    "# Getting a feel of the data\n",
    "df_apts.head(3)"
   ]
  },
  {
   "cell_type": "code",
   "execution_count": 10,
   "metadata": {},
   "outputs": [
    {
     "data": {
      "image/png": "[encoded data removed]",
      "text/plain": [
       "<Figure size 432x288 with 1 Axes>"
      ]
     },
     "metadata": {
      "needs_background": "light"
     },
     "output_type": "display_data"
    }
   ],
   "source": [
    "# Number of null values per column\n",
    "df_nulls = df_apts.isnull().sum()\n",
    "df_nulls = df_nulls[df_nulls > 0]\n",
    "nulls_graph = sb.barplot(x=df_nulls.values, y=df_nulls.index)"
   ]
  },
  {
   "cell_type": "code",
   "execution_count": 12,
   "metadata": {},
   "outputs": [
    {
     "data": {
      "image/png": "[encoded data removed]",
      "text/plain": [
       "<Figure size 432x288 with 1 Axes>"
      ]
     },
     "metadata": {
      "needs_background": "light"
     },
     "output_type": "display_data"
    }
   ],
   "source": [
    "# Exploring the linear relationship between price and surface\n",
    "linear_graph = sb.regplot(x=\"surface\", y=\"price\", data=df_apts)"
   ]
  },
  {
   "cell_type": "code",
   "execution_count": 47,
   "metadata": {},
   "outputs": [
    {
     "data": {
      "text/html": [
       "<div>\n",
       "<style scoped>\n",
       "    .dataframe tbody tr th:only-of-type {\n",
       "        vertical-align: middle;\n",
       "    }\n",
       "\n",
       "    .dataframe tbody tr th {\n",
       "        vertical-align: top;\n",
       "    }\n",
       "\n",
       "    .dataframe thead th {\n",
       "        text-align: right;\n",
       "    }\n",
       "</style>\n",
       "<table border=\"1\" class=\"dataframe\">\n",
       "  <thead>\n",
       "    <tr style=\"text-align: right;\">\n",
       "      <th></th>\n",
       "      <th>fingerprint</th>\n",
       "      <th>title</th>\n",
       "      <th>description</th>\n",
       "      <th>posted_date</th>\n",
       "      <th>price</th>\n",
       "      <th>currency</th>\n",
       "      <th>partitioning</th>\n",
       "      <th>surface</th>\n",
       "      <th>building_year</th>\n",
       "      <th>floor</th>\n",
       "      <th>number_of_rooms</th>\n",
       "      <th>terrace</th>\n",
       "      <th>parking</th>\n",
       "      <th>cellar</th>\n",
       "      <th>source_website</th>\n",
       "      <th>source_offer</th>\n",
       "      <th>neighborhood</th>\n",
       "    </tr>\n",
       "  </thead>\n",
       "  <tbody>\n",
       "    <tr>\n",
       "      <th>717</th>\n",
       "      <td>97cf6274e599e95ed8870e4d8eee2d2ecd0d0b33</td>\n",
       "      <td>Se vinde apartament pe aleea Bizusa 48 de mp</td>\n",
       "      <td>Descriere anuntImobgaranti va propune spre van...</td>\n",
       "      <td>2019-04-28 12:49:55.050394</td>\n",
       "      <td>79000</td>\n",
       "      <td>EUR</td>\n",
       "      <td>decomandat</td>\n",
       "      <td>48.0</td>\n",
       "      <td>1990</td>\n",
       "      <td>8.0</td>\n",
       "      <td>2.0</td>\n",
       "      <td>True</td>\n",
       "      <td>True</td>\n",
       "      <td>False</td>\n",
       "      <td>storia</td>\n",
       "      <td>Agentie imobiliara</td>\n",
       "      <td>centru</td>\n",
       "    </tr>\n",
       "    <tr>\n",
       "      <th>913</th>\n",
       "      <td>a3d03f5cc2221c9200640dfd5df55f2e4c146a11</td>\n",
       "      <td>Apartament in casa, 1 camera, de închiriat, în...</td>\n",
       "      <td>Descriere anuntILUSTRA IMOBILIARE  inchiriază ...</td>\n",
       "      <td>2019-04-28 12:54:19.884013</td>\n",
       "      <td>89000</td>\n",
       "      <td>EUR</td>\n",
       "      <td>NaN</td>\n",
       "      <td>40.0</td>\n",
       "      <td>NaN</td>\n",
       "      <td>NaN</td>\n",
       "      <td>1.0</td>\n",
       "      <td>False</td>\n",
       "      <td>True</td>\n",
       "      <td>True</td>\n",
       "      <td>storia</td>\n",
       "      <td>Agentie imobiliara</td>\n",
       "      <td>centru</td>\n",
       "    </tr>\n",
       "    <tr>\n",
       "      <th>2927</th>\n",
       "      <td>318770b72464cf3a69ed1a034feaedaa56e9696c</td>\n",
       "      <td>Apartament, 1 camera, de închiriat, în Centru</td>\n",
       "      <td>Descriere anuntILUSTRA IMOBILIARE  inchiriază ...</td>\n",
       "      <td>2019-04-28 13:41:03.706166</td>\n",
       "      <td>63000</td>\n",
       "      <td>EUR</td>\n",
       "      <td>NaN</td>\n",
       "      <td>23.0</td>\n",
       "      <td>NaN</td>\n",
       "      <td>NaN</td>\n",
       "      <td>1.0</td>\n",
       "      <td>False</td>\n",
       "      <td>False</td>\n",
       "      <td>False</td>\n",
       "      <td>storia</td>\n",
       "      <td>Agentie imobiliara</td>\n",
       "      <td>centru</td>\n",
       "    </tr>\n",
       "    <tr>\n",
       "      <th>3382</th>\n",
       "      <td>08a547a6cefe721e5da69b20fdb12d17da89ca9a</td>\n",
       "      <td>VG 79275, Garsoniera la et. intermediar, 24 mp...</td>\n",
       "      <td>Descriere anuntGarsoniera in zona Expo Transil...</td>\n",
       "      <td>2019-04-28 13:52:00.189373</td>\n",
       "      <td>46000</td>\n",
       "      <td>EUR</td>\n",
       "      <td>decomandat</td>\n",
       "      <td>28.0</td>\n",
       "      <td>NaN</td>\n",
       "      <td>1.0</td>\n",
       "      <td>1.0</td>\n",
       "      <td>True</td>\n",
       "      <td>False</td>\n",
       "      <td>False</td>\n",
       "      <td>storia</td>\n",
       "      <td>Agentie imobiliara</td>\n",
       "      <td>marasti</td>\n",
       "    </tr>\n",
       "    <tr>\n",
       "      <th>4851</th>\n",
       "      <td>67a7ad24ffe2c4f1559f0e3e595ec6a8e4e2fbdb</td>\n",
       "      <td>Se vinde apartament pe strada Bucuresti 50 de mp</td>\n",
       "      <td>Descriere anuntImobgaranti va pune spre vanzar...</td>\n",
       "      <td>2019-04-28 14:26:14.340498</td>\n",
       "      <td>74500</td>\n",
       "      <td>EUR</td>\n",
       "      <td>semidecomandat</td>\n",
       "      <td>50.0</td>\n",
       "      <td>2015</td>\n",
       "      <td>3.0</td>\n",
       "      <td>2.0</td>\n",
       "      <td>True</td>\n",
       "      <td>True</td>\n",
       "      <td>False</td>\n",
       "      <td>storia</td>\n",
       "      <td>Agentie imobiliara</td>\n",
       "      <td>centru</td>\n",
       "    </tr>\n",
       "  </tbody>\n",
       "</table>\n",
       "</div>"
      ],
      "text/plain": [
       "                                   fingerprint  \\\n",
       "717   97cf6274e599e95ed8870e4d8eee2d2ecd0d0b33   \n",
       "913   a3d03f5cc2221c9200640dfd5df55f2e4c146a11   \n",
       "2927  318770b72464cf3a69ed1a034feaedaa56e9696c   \n",
       "3382  08a547a6cefe721e5da69b20fdb12d17da89ca9a   \n",
       "4851  67a7ad24ffe2c4f1559f0e3e595ec6a8e4e2fbdb   \n",
       "\n",
       "                                                  title  \\\n",
       "717        Se vinde apartament pe aleea Bizusa 48 de mp   \n",
       "913   Apartament in casa, 1 camera, de închiriat, în...   \n",
       "2927      Apartament, 1 camera, de închiriat, în Centru   \n",
       "3382  VG 79275, Garsoniera la et. intermediar, 24 mp...   \n",
       "4851   Se vinde apartament pe strada Bucuresti 50 de mp   \n",
       "\n",
       "                                            description  \\\n",
       "717   Descriere anuntImobgaranti va propune spre van...   \n",
       "913   Descriere anuntILUSTRA IMOBILIARE  inchiriază ...   \n",
       "2927  Descriere anuntILUSTRA IMOBILIARE  inchiriază ...   \n",
       "3382  Descriere anuntGarsoniera in zona Expo Transil...   \n",
       "4851  Descriere anuntImobgaranti va pune spre vanzar...   \n",
       "\n",
       "                     posted_date  price currency    partitioning  surface  \\\n",
       "717   2019-04-28 12:49:55.050394  79000      EUR      decomandat     48.0   \n",
       "913   2019-04-28 12:54:19.884013  89000      EUR             NaN     40.0   \n",
       "2927  2019-04-28 13:41:03.706166  63000      EUR             NaN     23.0   \n",
       "3382  2019-04-28 13:52:00.189373  46000      EUR      decomandat     28.0   \n",
       "4851  2019-04-28 14:26:14.340498  74500      EUR  semidecomandat     50.0   \n",
       "\n",
       "     building_year  floor  number_of_rooms  terrace  parking  cellar  \\\n",
       "717           1990    8.0              2.0     True     True   False   \n",
       "913            NaN    NaN              1.0    False     True    True   \n",
       "2927           NaN    NaN              1.0    False    False   False   \n",
       "3382           NaN    1.0              1.0     True    False   False   \n",
       "4851          2015    3.0              2.0     True     True   False   \n",
       "\n",
       "     source_website        source_offer neighborhood  \n",
       "717          storia  Agentie imobiliara       centru  \n",
       "913          storia  Agentie imobiliara       centru  \n",
       "2927         storia  Agentie imobiliara       centru  \n",
       "3382         storia  Agentie imobiliara      marasti  \n",
       "4851         storia  Agentie imobiliara       centru  "
      ]
     },
     "execution_count": 47,
     "metadata": {},
     "output_type": "execute_result"
    }
   ],
   "source": [
    "# Above shows general linearity, with some outliers, namely in price\n",
    "# These can be brought on by sellers wrongly marking apartments for sale as for rent\n",
    "# Anything above 10,000 probably does not belong here\n",
    "# Let check them out\n",
    "df_apts.loc[df_apts.price > 10000]"
   ]
  },
  {
   "cell_type": "code",
   "execution_count": 25,
   "metadata": {},
   "outputs": [],
   "source": [
    "# Data needs to be cleaned of these data points\n",
    "df_apts_clean_part = df_apts.loc[df_apts.price < 10000] "
   ]
  },
  {
   "cell_type": "code",
   "execution_count": 14,
   "metadata": {},
   "outputs": [
    {
     "data": {
      "image/png": "[encoded data removed]",
      "text/plain": [
       "<Figure size 432x288 with 1 Axes>"
      ]
     },
     "metadata": {
      "needs_background": "light"
     },
     "output_type": "display_data"
    }
   ],
   "source": [
    "# Let's try the linear function again\n",
    "linear_graph = sb.regplot(x=\"surface\", y=\"price\", data=df_apts_clean_part)"
   ]
  },
  {
   "cell_type": "code",
   "execution_count": 44,
   "metadata": {},
   "outputs": [
    {
     "data": {
      "text/html": [
       "<div>\n",
       "<style scoped>\n",
       "    .dataframe tbody tr th:only-of-type {\n",
       "        vertical-align: middle;\n",
       "    }\n",
       "\n",
       "    .dataframe tbody tr th {\n",
       "        vertical-align: top;\n",
       "    }\n",
       "\n",
       "    .dataframe thead th {\n",
       "        text-align: right;\n",
       "    }\n",
       "</style>\n",
       "<table border=\"1\" class=\"dataframe\">\n",
       "  <thead>\n",
       "    <tr style=\"text-align: right;\">\n",
       "      <th></th>\n",
       "      <th>fingerprint</th>\n",
       "      <th>title</th>\n",
       "      <th>description</th>\n",
       "      <th>posted_date</th>\n",
       "      <th>price</th>\n",
       "      <th>currency</th>\n",
       "      <th>partitioning</th>\n",
       "      <th>surface</th>\n",
       "      <th>building_year</th>\n",
       "      <th>floor</th>\n",
       "      <th>number_of_rooms</th>\n",
       "      <th>terrace</th>\n",
       "      <th>parking</th>\n",
       "      <th>cellar</th>\n",
       "      <th>source_website</th>\n",
       "      <th>source_offer</th>\n",
       "      <th>neighborhood</th>\n",
       "    </tr>\n",
       "  </thead>\n",
       "  <tbody>\n",
       "    <tr>\n",
       "      <th>1713</th>\n",
       "      <td>f798b8784a586cc7feb0cfdf10d2ae41e62984ae</td>\n",
       "      <td>For rent big apartment with 2 rooms and terrac...</td>\n",
       "      <td>Descriere anunt3-4 min walk to USAMV!Big apart...</td>\n",
       "      <td>2019-04-28 13:12:39.825909</td>\n",
       "      <td>650</td>\n",
       "      <td>EUR</td>\n",
       "      <td>decomandat</td>\n",
       "      <td>656.0</td>\n",
       "      <td>NaN</td>\n",
       "      <td>NaN</td>\n",
       "      <td>2.0</td>\n",
       "      <td>False</td>\n",
       "      <td>False</td>\n",
       "      <td>False</td>\n",
       "      <td>storia</td>\n",
       "      <td>Agentie imobiliara</td>\n",
       "      <td>not found</td>\n",
       "    </tr>\n",
       "    <tr>\n",
       "      <th>2186</th>\n",
       "      <td>28c3fa46d4a72dda63558cfcf4f66ac44f9bc949</td>\n",
       "      <td>Apartament, 3 camere, 100 mp, parcare, zona st...</td>\n",
       "      <td>Descriere anuntOferta ID: 1230Va prezentam un ...</td>\n",
       "      <td>2019-04-28 13:23:36.516324</td>\n",
       "      <td>500</td>\n",
       "      <td>EUR</td>\n",
       "      <td>semidecomandat</td>\n",
       "      <td>540.0</td>\n",
       "      <td>2010</td>\n",
       "      <td>4.0</td>\n",
       "      <td>3.0</td>\n",
       "      <td>True</td>\n",
       "      <td>True</td>\n",
       "      <td>False</td>\n",
       "      <td>storia</td>\n",
       "      <td>Agentie imobiliara</td>\n",
       "      <td>buna ziua</td>\n",
       "    </tr>\n",
       "    <tr>\n",
       "      <th>2531</th>\n",
       "      <td>b2e62203c1ae765764ac0232f4100b337b552e8d</td>\n",
       "      <td>Spatiu birouri, de închiriat, în Someseni</td>\n",
       "      <td>Descriere anuntILUSTRA IMOBILIARE  inchiriază ...</td>\n",
       "      <td>2019-04-28 13:56:14.045835</td>\n",
       "      <td>2600</td>\n",
       "      <td>EUR</td>\n",
       "      <td>NaN</td>\n",
       "      <td>500.0</td>\n",
       "      <td>NaN</td>\n",
       "      <td>NaN</td>\n",
       "      <td>1.0</td>\n",
       "      <td>False</td>\n",
       "      <td>True</td>\n",
       "      <td>False</td>\n",
       "      <td>storia</td>\n",
       "      <td>Agentie imobiliara</td>\n",
       "      <td>someseni</td>\n",
       "    </tr>\n",
       "    <tr>\n",
       "      <th>4440</th>\n",
       "      <td>380c2abf651f11dc59bbf8b61d32e1cfdc00cd71</td>\n",
       "      <td>Inchiriez apartament frumos cu 2 camere+parcar...</td>\n",
       "      <td>Descriere anuntStudent Mob Cluj agentia imobil...</td>\n",
       "      <td>2019-04-28 14:17:28.367465</td>\n",
       "      <td>250</td>\n",
       "      <td>EUR</td>\n",
       "      <td>semidecomandat</td>\n",
       "      <td>550.0</td>\n",
       "      <td>NaN</td>\n",
       "      <td>NaN</td>\n",
       "      <td>2.0</td>\n",
       "      <td>False</td>\n",
       "      <td>False</td>\n",
       "      <td>False</td>\n",
       "      <td>storia</td>\n",
       "      <td>Agentie imobiliara</td>\n",
       "      <td>floresti</td>\n",
       "    </tr>\n",
       "    <tr>\n",
       "      <th>8299</th>\n",
       "      <td>fa7f670e7da3aae52e73bf8a94a0adde3a4c16d0</td>\n",
       "      <td>For rent big apartment with 2 rooms and terrac...</td>\n",
       "      <td>3-4 min walk to USAMV!Big apartment with 2 roo...</td>\n",
       "      <td>2019-04-23 07:06:00</td>\n",
       "      <td>650</td>\n",
       "      <td>EUR</td>\n",
       "      <td>Decomandat</td>\n",
       "      <td>656.0</td>\n",
       "      <td>NaN</td>\n",
       "      <td>NaN</td>\n",
       "      <td>NaN</td>\n",
       "      <td>False</td>\n",
       "      <td>False</td>\n",
       "      <td>False</td>\n",
       "      <td>olx</td>\n",
       "      <td>Agentie</td>\n",
       "      <td>usamv</td>\n",
       "    </tr>\n",
       "    <tr>\n",
       "      <th>9262</th>\n",
       "      <td>f4faf1040bea27fcb0cbe91cc316228d78888b9a</td>\n",
       "      <td>Inchiriez apartament frumos cu 2 camere+parcar...</td>\n",
       "      <td>Student Mob Cluj agentia imobiliara cu cel mai...</td>\n",
       "      <td>2019-04-24 10:37:00</td>\n",
       "      <td>250</td>\n",
       "      <td>EUR</td>\n",
       "      <td>Semidecomandat</td>\n",
       "      <td>550.0</td>\n",
       "      <td>NaN</td>\n",
       "      <td>NaN</td>\n",
       "      <td>NaN</td>\n",
       "      <td>False</td>\n",
       "      <td>False</td>\n",
       "      <td>False</td>\n",
       "      <td>olx</td>\n",
       "      <td>Agentie</td>\n",
       "      <td>floresti</td>\n",
       "    </tr>\n",
       "    <tr>\n",
       "      <th>9995</th>\n",
       "      <td>af37710b14e3cfceb13abef5b2b1d206a31671c5</td>\n",
       "      <td>Apartament, 3 camere, 100 mp, parcare, zona st...</td>\n",
       "      <td>Oferta ID: 1230Va prezentam un apartament mode...</td>\n",
       "      <td>2019-04-25 15:22:00</td>\n",
       "      <td>500</td>\n",
       "      <td>EUR</td>\n",
       "      <td>Semidecomandat</td>\n",
       "      <td>540.0</td>\n",
       "      <td>Dupa 2000</td>\n",
       "      <td>4.0</td>\n",
       "      <td>NaN</td>\n",
       "      <td>True</td>\n",
       "      <td>True</td>\n",
       "      <td>False</td>\n",
       "      <td>olx</td>\n",
       "      <td>Agentie</td>\n",
       "      <td>buna ziua</td>\n",
       "    </tr>\n",
       "  </tbody>\n",
       "</table>\n",
       "</div>"
      ],
      "text/plain": [
       "                                   fingerprint  \\\n",
       "1713  f798b8784a586cc7feb0cfdf10d2ae41e62984ae   \n",
       "2186  28c3fa46d4a72dda63558cfcf4f66ac44f9bc949   \n",
       "2531  b2e62203c1ae765764ac0232f4100b337b552e8d   \n",
       "4440  380c2abf651f11dc59bbf8b61d32e1cfdc00cd71   \n",
       "8299  fa7f670e7da3aae52e73bf8a94a0adde3a4c16d0   \n",
       "9262  f4faf1040bea27fcb0cbe91cc316228d78888b9a   \n",
       "9995  af37710b14e3cfceb13abef5b2b1d206a31671c5   \n",
       "\n",
       "                                                  title  \\\n",
       "1713  For rent big apartment with 2 rooms and terrac...   \n",
       "2186  Apartament, 3 camere, 100 mp, parcare, zona st...   \n",
       "2531          Spatiu birouri, de închiriat, în Someseni   \n",
       "4440  Inchiriez apartament frumos cu 2 camere+parcar...   \n",
       "8299  For rent big apartment with 2 rooms and terrac...   \n",
       "9262  Inchiriez apartament frumos cu 2 camere+parcar...   \n",
       "9995  Apartament, 3 camere, 100 mp, parcare, zona st...   \n",
       "\n",
       "                                            description  \\\n",
       "1713  Descriere anunt3-4 min walk to USAMV!Big apart...   \n",
       "2186  Descriere anuntOferta ID: 1230Va prezentam un ...   \n",
       "2531  Descriere anuntILUSTRA IMOBILIARE  inchiriază ...   \n",
       "4440  Descriere anuntStudent Mob Cluj agentia imobil...   \n",
       "8299  3-4 min walk to USAMV!Big apartment with 2 roo...   \n",
       "9262  Student Mob Cluj agentia imobiliara cu cel mai...   \n",
       "9995  Oferta ID: 1230Va prezentam un apartament mode...   \n",
       "\n",
       "                     posted_date  price currency    partitioning  surface  \\\n",
       "1713  2019-04-28 13:12:39.825909    650      EUR      decomandat    656.0   \n",
       "2186  2019-04-28 13:23:36.516324    500      EUR  semidecomandat    540.0   \n",
       "2531  2019-04-28 13:56:14.045835   2600      EUR             NaN    500.0   \n",
       "4440  2019-04-28 14:17:28.367465    250      EUR  semidecomandat    550.0   \n",
       "8299         2019-04-23 07:06:00    650      EUR      Decomandat    656.0   \n",
       "9262         2019-04-24 10:37:00    250      EUR  Semidecomandat    550.0   \n",
       "9995         2019-04-25 15:22:00    500      EUR  Semidecomandat    540.0   \n",
       "\n",
       "     building_year  floor  number_of_rooms  terrace  parking  cellar  \\\n",
       "1713           NaN    NaN              2.0    False    False   False   \n",
       "2186          2010    4.0              3.0     True     True   False   \n",
       "2531           NaN    NaN              1.0    False     True   False   \n",
       "4440           NaN    NaN              2.0    False    False   False   \n",
       "8299           NaN    NaN              NaN    False    False   False   \n",
       "9262           NaN    NaN              NaN    False    False   False   \n",
       "9995     Dupa 2000    4.0              NaN     True     True   False   \n",
       "\n",
       "     source_website        source_offer neighborhood  \n",
       "1713         storia  Agentie imobiliara    not found  \n",
       "2186         storia  Agentie imobiliara    buna ziua  \n",
       "2531         storia  Agentie imobiliara     someseni  \n",
       "4440         storia  Agentie imobiliara     floresti  \n",
       "8299            olx             Agentie        usamv  \n",
       "9262            olx             Agentie     floresti  \n",
       "9995            olx             Agentie    buna ziua  "
      ]
     },
     "execution_count": 44,
     "metadata": {},
     "output_type": "execute_result"
    }
   ],
   "source": [
    "# Still some outliers on the surface (where do you even find a 600 m^2 apartment?)\n",
    "# Let's check them out\n",
    "df_apts.loc[df_apts.surface > 300]"
   ]
  },
  {
   "cell_type": "code",
   "execution_count": 40,
   "metadata": {},
   "outputs": [],
   "source": [
    "# The only one making sense is 2531, but it's an office space so we can safely clean them all out\n",
    "df_apts_clean = df_apts_clean_part.loc[df_apts_clean_part.surface < 300]"
   ]
  },
  {
   "cell_type": "code",
   "execution_count": 41,
   "metadata": {},
   "outputs": [
    {
     "data": {
      "image/png": "[encoded data removed]",
      "text/plain": [
       "<Figure size 432x288 with 1 Axes>"
      ]
     },
     "metadata": {
      "needs_background": "light"
     },
     "output_type": "display_data"
    }
   ],
   "source": [
    "# Let's try the linear function AGAIN\n",
    "linear_graph = sb.regplot(x=\"surface\", y=\"price\", data=df_apts_clean)"
   ]
  },
  {
   "cell_type": "code",
   "execution_count": 30,
   "metadata": {},
   "outputs": [],
   "source": [
    "# That's better, now the linearity is observable"
   ]
  },
  {
   "cell_type": "code",
   "execution_count": 65,
   "metadata": {},
   "outputs": [
    {
     "data": {
      "image/png": "[encoded data removed]",
      "text/plain": [
       "<Figure size 432x288 with 1 Axes>"
      ]
     },
     "metadata": {
      "needs_background": "light"
     },
     "output_type": "display_data"
    }
   ],
   "source": [
    "# Let's check out the price distribution\n",
    "skew = df_apts_clean[\"price\"].skew()\n",
    "price_dist = sb.distplot(df_apts_clean[\"price\"], color=\"m\", label=f\"Skewness {skew}\")\n",
    "price_dist = price_dist.legend(loc=\"best\")"
   ]
  },
  {
   "cell_type": "code",
   "execution_count": 42,
   "metadata": {},
   "outputs": [],
   "source": [
    "# Explanation: the skew means where the tail of the distribution is\n",
    "# if it's negative, more values in the higher part, positive, then more values in the lower part\n",
    "# conclusion: the skew is high, because we still have some extreme values wich might impact the skew"
   ]
  },
  {
   "cell_type": "code",
   "execution_count": 61,
   "metadata": {},
   "outputs": [
    {
     "data": {
      "image/png": "[encoded data removed]",
      "text/plain": [
       "<Figure size 432x288 with 1 Axes>"
      ]
     },
     "metadata": {
      "needs_background": "light"
     },
     "output_type": "display_data"
    }
   ],
   "source": [
    "# We apply a normalization procedure (logarithm of price) to minimise the impact of extreme values\n",
    "skew = df_apts_clean[\"price_log\"].skew()\n",
    "df_apts_clean.loc[:, 'price_log'] = df_apts_clean[\"price\"].map(lambda i: np.log1p(i) if i > 0 else 0)\n",
    "price_log_dist = sb.distplot(df_apts_clean[\"price_log\"], color=\"m\", label=f\"Skewness {skew}\")\n",
    "price_log_dist = price_log_dist.legend(loc=\"best\")"
   ]
  },
  {
   "cell_type": "code",
   "execution_count": null,
   "metadata": {},
   "outputs": [],
   "source": [
    "# Way better skew, which show that the apartment prices are near symmetric respective to their size\n",
    "# but still slightly cheaper than they are expensive"
   ]
  }
 ],
 "metadata": {
  "kernelspec": {
   "display_name": "Python 3",
   "language": "python",
   "name": "python3"
  },
  "language_info": {
   "codemirror_mode": {
    "name": "ipython",
    "version": 3
   },
   "file_extension": ".py",
   "mimetype": "text/x-python",
   "name": "python",
   "nbconvert_exporter": "python",
   "pygments_lexer": "ipython3",
   "version": "3.7.1"
  }
 },
 "nbformat": 4,
 "nbformat_minor": 2
}
